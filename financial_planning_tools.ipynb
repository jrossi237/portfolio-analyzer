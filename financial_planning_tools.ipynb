{
 "cells": [
  {
   "cell_type": "markdown",
   "metadata": {},
   "source": [
    "# Financial Planning with APIs and Simulations\n",
    "\n",
    "In this Challenge, you’ll create two financial analysis tools by using a single Jupyter notebook:\n",
    "\n",
    "Part 1: A financial planner for emergencies. The members will be able to use this tool to visualize their current savings. The members can then determine if they have enough reserves for an emergency fund.\n",
    "\n",
    "Part 2: A financial planner for retirement. This tool will forecast the performance of their retirement portfolio in 30 years. To do this, the tool will make an Alpaca API call via the Alpaca SDK to get historical price data for use in Monte Carlo simulations.\n",
    "\n",
    "You’ll use the information from the Monte Carlo simulation to answer questions about the portfolio in your Jupyter notebook.\n",
    "\n"
   ]
  },
  {
   "cell_type": "code",
   "execution_count": 1,
   "metadata": {},
   "outputs": [],
   "source": [
    "# Import the required libraries and dependencies\n",
    "import os\n",
    "import requests\n",
    "import json\n",
    "import pandas as pd\n",
    "from dotenv import load_dotenv\n",
    "from pprint import pprint\n",
    "import alpaca_trade_api as tradeapi\n",
    "from MCForecastTools import MCSimulation\n",
    "\n",
    "%matplotlib inline"
   ]
  },
  {
   "cell_type": "code",
   "execution_count": 2,
   "metadata": {},
   "outputs": [
    {
     "data": {
      "text/plain": [
       "True"
      ]
     },
     "execution_count": 2,
     "metadata": {},
     "output_type": "execute_result"
    }
   ],
   "source": [
    "# Load the environment variables from the .env file\n",
    "#by calling the load_dotenv function\n",
    "load_dotenv()"
   ]
  },
  {
   "cell_type": "markdown",
   "metadata": {},
   "source": [
    "## Part 1: Create a Financial Planner for Emergencies"
   ]
  },
  {
   "cell_type": "markdown",
   "metadata": {},
   "source": [
    "### Evaluate the Cryptocurrency Wallet by Using the Requests Library\n",
    "\n",
    "In this section, you’ll determine the current value of a member’s cryptocurrency wallet. You’ll collect the current prices for the Bitcoin and Ethereum cryptocurrencies by using the Python Requests library. For the prototype, you’ll assume that the member holds the 1.2 Bitcoins (BTC) and 5.3 Ethereum coins (ETH). To do all this, complete the following steps:\n",
    "\n",
    "1. Create a variable named `monthly_income`, and set its value to `12000`.\n",
    "\n",
    "2. Use the Requests library to get the current price (in US dollars) of Bitcoin (BTC) and Ethereum (ETH) by using the API endpoints that the starter code supplies.\n",
    "\n",
    "3. Navigate the JSON response object to access the current price of each coin, and store each in a variable.\n",
    "\n",
    "    > **Hint** Note the specific identifier for each cryptocurrency in the API JSON response. The Bitcoin identifier is `1`, and the Ethereum identifier is `1027`.\n",
    "\n",
    "4. Calculate the value, in US dollars, of the current amount of each cryptocurrency and of the entire cryptocurrency wallet.\n",
    "\n"
   ]
  },
  {
   "cell_type": "code",
   "execution_count": 3,
   "metadata": {},
   "outputs": [],
   "source": [
    "# The current number of coins for each cryptocurrency asset held in the portfolio.\n",
    "btc_coins = 1.2\n",
    "eth_coins = 5.3"
   ]
  },
  {
   "cell_type": "markdown",
   "metadata": {},
   "source": [
    "#### Step 1: Create a variable named `monthly_income`, and set its value to `12000`."
   ]
  },
  {
   "cell_type": "code",
   "execution_count": 4,
   "metadata": {},
   "outputs": [],
   "source": [
    "# The monthly amount for the member's household income\n",
    "monthly_income = 12000\n"
   ]
  },
  {
   "cell_type": "markdown",
   "metadata": {},
   "source": [
    "#### Review the endpoint URLs for the API calls to Free Crypto API in order to get the current pricing information for both BTC and ETH."
   ]
  },
  {
   "cell_type": "code",
   "execution_count": 5,
   "metadata": {},
   "outputs": [],
   "source": [
    "# The Free Crypto API Call endpoint URLs for the held cryptocurrency assets\n",
    "btc_url = \"https://api.alternative.me/v2/ticker/Bitcoin/?convert=USD\"\n",
    "eth_url = \"https://api.alternative.me/v2/ticker/Ethereum/?convert=USD\""
   ]
  },
  {
   "cell_type": "markdown",
   "metadata": {},
   "source": [
    "#### Step 2. Use the Requests library to get the current price (in US dollars) of Bitcoin (BTC) and Ethereum (ETH) by using the API endpoints that the starter code supplied."
   ]
  },
  {
   "cell_type": "code",
   "execution_count": 6,
   "metadata": {},
   "outputs": [
    {
     "name": "stdout",
     "output_type": "stream",
     "text": [
      "{\n",
      "     \"data\": {\n",
      "          \"1\": {\n",
      "               \"circulating_supply\": 18944275,\n",
      "               \"id\": 1,\n",
      "               \"last_updated\": 1643566643,\n",
      "               \"max_supply\": 21000000,\n",
      "               \"name\": \"Bitcoin\",\n",
      "               \"quotes\": {\n",
      "                    \"USD\": {\n",
      "                         \"market_cap\": 721015349609,\n",
      "                         \"percent_change_1h\": 0.361460872253385,\n",
      "                         \"percent_change_24h\": 0.850963949180785,\n",
      "                         \"percent_change_7d\": 8.17897064641327,\n",
      "                         \"percentage_change_1h\": 0.361460872253385,\n",
      "                         \"percentage_change_24h\": 0.850963949180785,\n",
      "                         \"percentage_change_7d\": 8.17897064641327,\n",
      "                         \"price\": 38058.0,\n",
      "                         \"volume_24h\": 12299779222\n",
      "                    }\n",
      "               },\n",
      "               \"rank\": 1,\n",
      "               \"symbol\": \"BTC\",\n",
      "               \"total_supply\": 18944275,\n",
      "               \"website_slug\": \"bitcoin\"\n",
      "          }\n",
      "     },\n",
      "     \"metadata\": {\n",
      "          \"error\": null,\n",
      "          \"num_cryptocurrencies\": 3105,\n",
      "          \"timestamp\": 1643566643\n",
      "     }\n",
      "}\n"
     ]
    }
   ],
   "source": [
    "# Using the Python requests library, make an API call to access the current price of BTC\n",
    "btc_response = requests.get(btc_url).json()\n",
    "\n",
    "# Use the json.dumps function to review the response data from the API call\n",
    "# Use the indent and sort_keys parameters to make the response object readable\n",
    "print(json.dumps(btc_response,indent=5, sort_keys=True))\n"
   ]
  },
  {
   "cell_type": "code",
   "execution_count": 7,
   "metadata": {},
   "outputs": [
    {
     "name": "stdout",
     "output_type": "stream",
     "text": [
      "{\n",
      "     \"data\": {\n",
      "          \"1027\": {\n",
      "               \"circulating_supply\": 119376486,\n",
      "               \"id\": 1027,\n",
      "               \"last_updated\": 1643566756,\n",
      "               \"max_supply\": 0,\n",
      "               \"name\": \"Ethereum\",\n",
      "               \"quotes\": {\n",
      "                    \"USD\": {\n",
      "                         \"market_cap\": 313158254305,\n",
      "                         \"percent_change_1h\": 0.909031398140606,\n",
      "                         \"percent_change_24h\": 1.82870826599657,\n",
      "                         \"percent_change_7d\": 9.04896405349928,\n",
      "                         \"percentage_change_1h\": 0.909031398140606,\n",
      "                         \"percentage_change_24h\": 1.82870826599657,\n",
      "                         \"percentage_change_7d\": 9.04896405349928,\n",
      "                         \"price\": 2625.22,\n",
      "                         \"volume_24h\": 8824584877\n",
      "                    }\n",
      "               },\n",
      "               \"rank\": 2,\n",
      "               \"symbol\": \"ETH\",\n",
      "               \"total_supply\": 119376486,\n",
      "               \"website_slug\": \"ethereum\"\n",
      "          }\n",
      "     },\n",
      "     \"metadata\": {\n",
      "          \"error\": null,\n",
      "          \"num_cryptocurrencies\": 3105,\n",
      "          \"timestamp\": 1643566756\n",
      "     }\n",
      "}\n"
     ]
    }
   ],
   "source": [
    "# Using the Python requests library, make an API call to access the current price ETH\n",
    "eth_response = requests.get(eth_url).json()\n",
    "\n",
    "# Use the json.dumps function to review the response data from the API call\n",
    "# Use the indent and sort_keys parameters to make the response object readable\n",
    "print(json.dumps(eth_response,indent=5, sort_keys=True))\n"
   ]
  },
  {
   "cell_type": "markdown",
   "metadata": {},
   "source": [
    "#### Step 3: Navigate the JSON response object to access the current price of each coin, and store each in a variable."
   ]
  },
  {
   "cell_type": "code",
   "execution_count": 8,
   "metadata": {},
   "outputs": [
    {
     "data": {
      "text/plain": [
       "38058.0"
      ]
     },
     "execution_count": 8,
     "metadata": {},
     "output_type": "execute_result"
    }
   ],
   "source": [
    "# Navigate the BTC response object to access the current price of BTC\n",
    "btc_price = btc_response['data']['1']['quotes']['USD']['price']\n",
    "\n",
    "\n",
    "# Print the current price of BTC\n",
    "btc_price\n"
   ]
  },
  {
   "cell_type": "code",
   "execution_count": 9,
   "metadata": {},
   "outputs": [
    {
     "data": {
      "text/plain": [
       "2625.22"
      ]
     },
     "metadata": {},
     "output_type": "display_data"
    }
   ],
   "source": [
    "# Navigate the BTC response object to access the current price of ETH\n",
    "eth_price = eth_response['data']['1027']['quotes']['USD']['price']\n",
    "\n",
    "# Print the current price of ETH\n",
    "display(eth_price)\n"
   ]
  },
  {
   "cell_type": "markdown",
   "metadata": {},
   "source": [
    "### Step 4: Calculate the value, in US dollars, of the current amount of each cryptocurrency and of the entire cryptocurrency wallet."
   ]
  },
  {
   "cell_type": "code",
   "execution_count": 10,
   "metadata": {},
   "outputs": [
    {
     "data": {
      "text/plain": [
       "45669.6"
      ]
     },
     "metadata": {},
     "output_type": "display_data"
    }
   ],
   "source": [
    "# Compute the current value of the BTC holding \n",
    "btc_value = btc_price * btc_coins\n",
    "\n",
    "# Print current value of your holding in BTC\n",
    "display(btc_value)"
   ]
  },
  {
   "cell_type": "code",
   "execution_count": 11,
   "metadata": {},
   "outputs": [
    {
     "data": {
      "text/plain": [
       "13913.666"
      ]
     },
     "metadata": {},
     "output_type": "display_data"
    }
   ],
   "source": [
    "# Compute the current value of the ETH holding \n",
    "eth_value = eth_price * eth_coins\n",
    "\n",
    "# Print current value of your holding in ETH\n",
    "display(eth_value)\n"
   ]
  },
  {
   "cell_type": "code",
   "execution_count": 12,
   "metadata": {},
   "outputs": [
    {
     "data": {
      "text/plain": [
       "59583.27"
      ]
     },
     "metadata": {},
     "output_type": "display_data"
    }
   ],
   "source": [
    "# Compute the total value of the cryptocurrency wallet\n",
    "# Add the value of the BTC holding to the value of the ETH holding\n",
    "total_crypto_wallet = round(btc_value + eth_value,2)\n",
    "\n",
    "# Print current cryptocurrency wallet balance\n",
    "display(total_crypto_wallet)\n"
   ]
  },
  {
   "cell_type": "markdown",
   "metadata": {},
   "source": [
    "### Evaluate the Stock and Bond Holdings by Using the Alpaca SDK\n",
    "\n",
    "In this section, you’ll determine the current value of a member’s stock and bond holdings. You’ll make an API call to Alpaca via the Alpaca SDK to get the current closing prices of the SPDR S&P 500 ETF Trust (ticker: SPY) and of the iShares Core US Aggregate Bond ETF (ticker: AGG). For the prototype, assume that the member holds 110 shares of SPY, which represents the stock portion of their portfolio, and 200 shares of AGG, which represents the bond portion. To do all this, complete the following steps:\n",
    "\n",
    "1. In the `Starter_Code` folder, create an environment file (`.env`) to store the values of your Alpaca API key and Alpaca secret key.\n",
    "\n",
    "2. Set the variables for the Alpaca API and secret keys. Using the Alpaca SDK, create the Alpaca `tradeapi.REST` object. In this object, include the parameters for the Alpaca API key, the secret key, and the version number.\n",
    "\n",
    "3. Set the following parameters for the Alpaca API call:\n",
    "\n",
    "    - `tickers`: Use the tickers for the member’s stock and bond holdings.\n",
    "\n",
    "    - `timeframe`: Use a time frame of one day.\n",
    "\n",
    "    - `start_date` and `end_date`: Use the same date for these parameters, and format them with the date of the previous weekday (or `2020-08-07`). This is because you want the one closing price for the most-recent trading day.\n",
    "\n",
    "4. Get the current closing prices for `SPY` and `AGG` by using the Alpaca `get_barset` function. Format the response as a Pandas DataFrame by including the `df` property at the end of the `get_barset` function.\n",
    "\n",
    "5. Navigating the Alpaca response DataFrame, select the `SPY` and `AGG` closing prices, and store them as variables.\n",
    "\n",
    "6. Calculate the value, in US dollars, of the current amount of shares in each of the stock and bond portions of the portfolio, and print the results.\n"
   ]
  },
  {
   "cell_type": "markdown",
   "metadata": {},
   "source": [
    "#### Review the total number of shares held in both (SPY) and (AGG)."
   ]
  },
  {
   "cell_type": "code",
   "execution_count": 13,
   "metadata": {},
   "outputs": [],
   "source": [
    "# Current amount of shares held in both the stock (SPY) and bond (AGG) portion of the portfolio.\n",
    "spy_shares = 110\n",
    "agg_shares = 200\n"
   ]
  },
  {
   "cell_type": "markdown",
   "metadata": {},
   "source": [
    "#### Step 1: In the `Starter_Code` folder, create an environment file (`.env`) to store the values of your Alpaca API key and Alpaca secret key."
   ]
  },
  {
   "cell_type": "markdown",
   "metadata": {},
   "source": [
    "#### Step 2: Set the variables for the Alpaca API and secret keys. Using the Alpaca SDK, create the Alpaca `tradeapi.REST` object. In this object, include the parameters for the Alpaca API key, the secret key, and the version number."
   ]
  },
  {
   "cell_type": "code",
   "execution_count": 14,
   "metadata": {},
   "outputs": [],
   "source": [
    "# Set the variables for the Alpaca API and secret keys\n",
    "alpaca_key = os.getenv('ALPACA_API_KEY')\n",
    "alpaca_secret = os.getenv('ALPACA_API_SECRET')\n",
    "\n",
    "# Create the Alpaca tradeapi.REST object\n",
    "alpaca = tradeapi.REST(alpaca_key,alpaca_secret,api_version='v2')\n"
   ]
  },
  {
   "cell_type": "markdown",
   "metadata": {},
   "source": [
    "#### Step 3: Set the following parameters for the Alpaca API call:\n",
    "\n",
    "- `tickers`: Use the tickers for the member’s stock and bond holdings.\n",
    "\n",
    "- `timeframe`: Use a time frame of one day.\n",
    "\n",
    "- `start_date` and `end_date`: Use the same date for these parameters, and format them with the date of the previous weekday (or `2020-08-07`). This is because you want the one closing price for the most-recent trading day.\n"
   ]
  },
  {
   "cell_type": "code",
   "execution_count": 15,
   "metadata": {},
   "outputs": [],
   "source": [
    "# Set the tickers for both the bond and stock portion of the portfolio\n",
    "tickers = ['SPY','AGG']\n",
    "\n",
    "# Set timeframe to 1D \n",
    "timeframe='1D'\n",
    "\n",
    "# Format current date as ISO format\n",
    "# Set both the start and end date at the date of your prior weekday \n",
    "# This will give you the closing price of the previous trading day\n",
    "# Alternatively you can use a start and end date of 2020-08-07\n",
    "start = pd.Timestamp('2022-01-28', tz=\"America/New_York\").isoformat()\n",
    "end = pd.Timestamp('2022-01-28', tz=\"America/New_York\").isoformat()\n"
   ]
  },
  {
   "cell_type": "markdown",
   "metadata": {},
   "source": [
    "#### Step 4: Get the current closing prices for `SPY` and `AGG` by using the Alpaca `get_barset` function. Format the response as a Pandas DataFrame by including the `df` property at the end of the `get_barset` function."
   ]
  },
  {
   "cell_type": "code",
   "execution_count": 16,
   "metadata": {},
   "outputs": [
    {
     "name": "stderr",
     "output_type": "stream",
     "text": [
      "C:\\Users\\jason\\AppData\\Local\\Temp/ipykernel_24116/3773771616.py:3: DeprecatedWarning: get_barset is deprecated as of v1.0.0. Use get_bars instead\n",
      "  alpaca_df = alpaca.get_barset(tickers, start=start,end=end, timeframe=timeframe, limit=1).df\n"
     ]
    },
    {
     "data": {
      "text/html": [
       "<div>\n",
       "<style scoped>\n",
       "    .dataframe tbody tr th:only-of-type {\n",
       "        vertical-align: middle;\n",
       "    }\n",
       "\n",
       "    .dataframe tbody tr th {\n",
       "        vertical-align: top;\n",
       "    }\n",
       "\n",
       "    .dataframe thead tr th {\n",
       "        text-align: left;\n",
       "    }\n",
       "\n",
       "    .dataframe thead tr:last-of-type th {\n",
       "        text-align: right;\n",
       "    }\n",
       "</style>\n",
       "<table border=\"1\" class=\"dataframe\">\n",
       "  <thead>\n",
       "    <tr>\n",
       "      <th></th>\n",
       "      <th colspan=\"5\" halign=\"left\">AGG</th>\n",
       "      <th colspan=\"5\" halign=\"left\">SPY</th>\n",
       "    </tr>\n",
       "    <tr>\n",
       "      <th></th>\n",
       "      <th>open</th>\n",
       "      <th>high</th>\n",
       "      <th>low</th>\n",
       "      <th>close</th>\n",
       "      <th>volume</th>\n",
       "      <th>open</th>\n",
       "      <th>high</th>\n",
       "      <th>low</th>\n",
       "      <th>close</th>\n",
       "      <th>volume</th>\n",
       "    </tr>\n",
       "    <tr>\n",
       "      <th>time</th>\n",
       "      <th></th>\n",
       "      <th></th>\n",
       "      <th></th>\n",
       "      <th></th>\n",
       "      <th></th>\n",
       "      <th></th>\n",
       "      <th></th>\n",
       "      <th></th>\n",
       "      <th></th>\n",
       "      <th></th>\n",
       "    </tr>\n",
       "  </thead>\n",
       "  <tbody>\n",
       "    <tr>\n",
       "      <th>2022-01-28 00:00:00-05:00</th>\n",
       "      <td>111.46</td>\n",
       "      <td>111.86</td>\n",
       "      <td>111.44</td>\n",
       "      <td>111.81</td>\n",
       "      <td>10400422</td>\n",
       "      <td>432.7</td>\n",
       "      <td>442</td>\n",
       "      <td>427.82</td>\n",
       "      <td>441.92</td>\n",
       "      <td>142062305</td>\n",
       "    </tr>\n",
       "  </tbody>\n",
       "</table>\n",
       "</div>"
      ],
      "text/plain": [
       "                              AGG                                      SPY  \\\n",
       "                             open    high     low   close    volume   open   \n",
       "time                                                                         \n",
       "2022-01-28 00:00:00-05:00  111.46  111.86  111.44  111.81  10400422  432.7   \n",
       "\n",
       "                                                           \n",
       "                          high     low   close     volume  \n",
       "time                                                       \n",
       "2022-01-28 00:00:00-05:00  442  427.82  441.92  142062305  "
      ]
     },
     "execution_count": 16,
     "metadata": {},
     "output_type": "execute_result"
    }
   ],
   "source": [
    "# Use the Alpaca get_barset function to get current closing prices the portfolio\n",
    "# Be sure to set the `df` property after the function to format the response object as a DataFrame\n",
    "alpaca_df = alpaca.get_barset(tickers, start=start,end=end, timeframe=timeframe, limit=1).df\n",
    "# Review the first 5 rows of the Alpaca DataFrame\n",
    "alpaca_df.head()\n"
   ]
  },
  {
   "cell_type": "markdown",
   "metadata": {},
   "source": [
    "#### Step 5: Navigating the Alpaca response DataFrame, select the `SPY` and `AGG` closing prices, and store them as variables."
   ]
  },
  {
   "cell_type": "code",
   "execution_count": 17,
   "metadata": {},
   "outputs": [
    {
     "data": {
      "text/plain": [
       "111.81"
      ]
     },
     "execution_count": 17,
     "metadata": {},
     "output_type": "execute_result"
    }
   ],
   "source": [
    "# Access the closing price for AGG from the Alpaca DataFrame\n",
    "# Converting the value to a floating point number\n",
    "agg_close_price = float(alpaca_df['AGG']['close'])\n",
    "\n",
    "# Print the AGG closing price\n",
    "agg_close_price\n",
    "\n"
   ]
  },
  {
   "cell_type": "code",
   "execution_count": 18,
   "metadata": {},
   "outputs": [
    {
     "data": {
      "text/plain": [
       "441.92"
      ]
     },
     "execution_count": 18,
     "metadata": {},
     "output_type": "execute_result"
    }
   ],
   "source": [
    "# Access the closing price for SPY from the Alpaca DataFrame\n",
    "# Converting the value to a floating point number\n",
    "spy_close_price = float(alpaca_df['SPY']['close'])\n",
    "\n",
    "# Print the SPY closing price\n",
    "spy_close_price\n"
   ]
  },
  {
   "cell_type": "markdown",
   "metadata": {},
   "source": [
    "#### Step 6: Calculate the value, in US dollars, of the current amount of shares in each of the stock and bond portions of the portfolio, and print the results."
   ]
  },
  {
   "cell_type": "code",
   "execution_count": 19,
   "metadata": {},
   "outputs": [
    {
     "data": {
      "text/plain": [
       "22362.0"
      ]
     },
     "execution_count": 19,
     "metadata": {},
     "output_type": "execute_result"
    }
   ],
   "source": [
    "# Calculate the current value of the bond portion of the portfolio\n",
    "agg_value = agg_close_price * agg_shares\n",
    "\n",
    "# Print the current value of the bond portfolio\n",
    "agg_value\n"
   ]
  },
  {
   "cell_type": "code",
   "execution_count": 20,
   "metadata": {},
   "outputs": [
    {
     "data": {
      "text/plain": [
       "48611.200000000004"
      ]
     },
     "execution_count": 20,
     "metadata": {},
     "output_type": "execute_result"
    }
   ],
   "source": [
    "# Calculate the current value of the stock portion of the portfolio\n",
    "spy_value = spy_close_price * spy_shares\n",
    "\n",
    "# Print the current value of the stock portfolio\n",
    "spy_value\n"
   ]
  },
  {
   "cell_type": "code",
   "execution_count": 21,
   "metadata": {},
   "outputs": [
    {
     "data": {
      "text/plain": [
       "70973.2"
      ]
     },
     "execution_count": 21,
     "metadata": {},
     "output_type": "execute_result"
    }
   ],
   "source": [
    "# Calculate the total value of the stock and bond portion of the portfolio\n",
    "total_stocks_bonds = round(spy_value + agg_value,2)\n",
    "\n",
    "# Print the current balance of the stock and bond portion of the portfolio\n",
    "total_stocks_bonds\n"
   ]
  },
  {
   "cell_type": "code",
   "execution_count": 30,
   "metadata": {},
   "outputs": [
    {
     "data": {
      "text/plain": [
       "130290.57"
      ]
     },
     "execution_count": 30,
     "metadata": {},
     "output_type": "execute_result"
    }
   ],
   "source": [
    "# Calculate the total value of the member's entire savings portfolio\n",
    "# Add the value of the cryptocurrency walled to the value of the total stocks and bonds\n",
    "total_portfolio = round(total_crypto_wallet + total_stocks_bonds,2)\n",
    "\n",
    "# Print current cryptocurrency wallet balance\n",
    "total_portfolio\n"
   ]
  },
  {
   "cell_type": "markdown",
   "metadata": {},
   "source": [
    "### Evaluate the Emergency Fund\n",
    "\n",
    "In this section, you’ll use the valuations for the cryptocurrency wallet and for the stock and bond portions of the portfolio to determine if the credit union member has enough savings to build an emergency fund into their financial plan. To do this, complete the following steps:\n",
    "\n",
    "1. Create a Python list named `savings_data` that has two elements. The first element contains the total value of the cryptocurrency wallet. The second element contains the total value of the stock and bond portions of the portfolio.\n",
    "\n",
    "2. Use the `savings_data` list to create a Pandas DataFrame named `savings_df`, and then display this DataFrame. The function to create the DataFrame should take the following three parameters:\n",
    "\n",
    "    - `savings_data`: Use the list that you just created.\n",
    "\n",
    "    - `columns`: Set this parameter equal to a Python list with a single value called `amount`.\n",
    "\n",
    "    - `index`: Set this parameter equal to a Python list with the values of `crypto` and `stock/bond`.\n",
    "\n",
    "3. Use the `savings_df` DataFrame to plot a pie chart that visualizes the composition of the member’s portfolio. The y-axis of the pie chart uses `amount`. Be sure to add a title.\n",
    "\n",
    "4. Using Python, determine if the current portfolio has enough to create an emergency fund as part of the member’s financial plan. Ideally, an emergency fund should equal to three times the member’s monthly income. To do this, implement the following steps:\n",
    "\n",
    "    1. Create a variable named `emergency_fund_value`, and set it equal to three times the value of the member’s `monthly_income` of $12000. (You set this earlier in Part 1).\n",
    "\n",
    "    2. Create a series of three if statements to determine if the member’s total portfolio is large enough to fund the emergency portfolio:\n",
    "\n",
    "        1. If the total portfolio value is greater than the emergency fund value, display a message congratulating the member for having enough money in this fund.\n",
    "\n",
    "        2. Else if the total portfolio value is equal to the emergency fund value, display a message congratulating the member on reaching this important financial goal.\n",
    "\n",
    "        3. Else the total portfolio is less than the emergency fund value, so display a message showing how many dollars away the member is from reaching the goal. (Subtract the total portfolio value from the emergency fund value.)\n"
   ]
  },
  {
   "cell_type": "markdown",
   "metadata": {},
   "source": [
    "#### Step 1: Create a Python list named `savings_data` that has two elements. The first element contains the total value of the cryptocurrency wallet. The second element contains the total value of the stock and bond portions of the portfolio."
   ]
  },
  {
   "cell_type": "code",
   "execution_count": 23,
   "metadata": {},
   "outputs": [
    {
     "data": {
      "text/plain": [
       "[59317.37, 70973.2]"
      ]
     },
     "metadata": {},
     "output_type": "display_data"
    }
   ],
   "source": [
    "# Consolidate financial assets data into a Python list\n",
    "savings_data = [total_crypto_wallet,total_stocks_bonds]\n",
    "# Review the Python list savings_data\n",
    "display(savings_data)\n",
    "    "
   ]
  },
  {
   "cell_type": "markdown",
   "metadata": {},
   "source": [
    "#### Step 2: Use the `savings_data` list to create a Pandas DataFrame named `savings_df`, and then display this DataFrame. The function to create the DataFrame should take the following three parameters:\n",
    "\n",
    "- `savings_data`: Use the list that you just created.\n",
    "\n",
    "- `columns`: Set this parameter equal to a Python list with a single value called `amount`.\n",
    "\n",
    "- `index`: Set this parameter equal to a Python list with the values of `crypto` and `stock/bond`.\n"
   ]
  },
  {
   "cell_type": "code",
   "execution_count": 24,
   "metadata": {},
   "outputs": [
    {
     "data": {
      "text/html": [
       "<div>\n",
       "<style scoped>\n",
       "    .dataframe tbody tr th:only-of-type {\n",
       "        vertical-align: middle;\n",
       "    }\n",
       "\n",
       "    .dataframe tbody tr th {\n",
       "        vertical-align: top;\n",
       "    }\n",
       "\n",
       "    .dataframe thead th {\n",
       "        text-align: right;\n",
       "    }\n",
       "</style>\n",
       "<table border=\"1\" class=\"dataframe\">\n",
       "  <thead>\n",
       "    <tr style=\"text-align: right;\">\n",
       "      <th></th>\n",
       "      <th>amount</th>\n",
       "    </tr>\n",
       "  </thead>\n",
       "  <tbody>\n",
       "    <tr>\n",
       "      <th>crypto</th>\n",
       "      <td>59317.37</td>\n",
       "    </tr>\n",
       "    <tr>\n",
       "      <th>stock/bond</th>\n",
       "      <td>70973.20</td>\n",
       "    </tr>\n",
       "  </tbody>\n",
       "</table>\n",
       "</div>"
      ],
      "text/plain": [
       "              amount\n",
       "crypto      59317.37\n",
       "stock/bond  70973.20"
      ]
     },
     "execution_count": 24,
     "metadata": {},
     "output_type": "execute_result"
    }
   ],
   "source": [
    "# Create a Pandas DataFrame called savings_df \n",
    "savings_df = pd.DataFrame(savings_data,columns=['amount'],index=['crypto','stock/bond'])\n",
    "# Display the savings_df DataFrame\n",
    "savings_df\n"
   ]
  },
  {
   "cell_type": "markdown",
   "metadata": {},
   "source": [
    "#### Step 3: Use the `savings_df` DataFrame to plot a pie chart that visualizes the composition of the member’s portfolio. The y-axis of the pie chart uses `amount`. Be sure to add a title."
   ]
  },
  {
   "cell_type": "code",
   "execution_count": 25,
   "metadata": {},
   "outputs": [
    {
     "data": {
      "text/plain": [
       "<AxesSubplot:title={'center':'Savings breakdown: Crypt vs Stock/bond'}, ylabel='amount'>"
      ]
     },
     "execution_count": 25,
     "metadata": {},
     "output_type": "execute_result"
    },
    {
     "data": {
      "image/png": "[encoded data removed]",
      "text/plain": [
       "<Figure size 432x288 with 1 Axes>"
      ]
     },
     "metadata": {},
     "output_type": "display_data"
    }
   ],
   "source": [
    "# Plot the total value of the member's portfolio (crypto and stock/bond) in a pie chart\n",
    "savings_df.plot(kind='pie',y='amount',title=\"Savings breakdown: Crypt vs Stock/bond\")\n"
   ]
  },
  {
   "cell_type": "markdown",
   "metadata": {},
   "source": [
    "#### Step 4: Using Python, determine if the current portfolio has enough to create an emergency fund as part of the member’s financial plan. Ideally, an emergency fund should equal to three times the member’s monthly income. To do this, implement the following steps:\n",
    "\n",
    "Step 1. Create a variable named `emergency_fund_value`, and set it equal to three times the value of the member’s `monthly_income` of 12000. (You set this earlier in Part 1).\n",
    "\n",
    "Step 2. Create a series of three if statements to determine if the member’s total portfolio is large enough to fund the emergency portfolio:\n",
    "\n",
    "* If the total portfolio value is greater than the emergency fund value, display a message congratulating the member for having enough money in this fund.\n",
    "\n",
    "* Else if the total portfolio value is equal to the emergency fund value, display a message congratulating the member on reaching this important financial goal.\n",
    "\n",
    "* Else the total portfolio is less than the emergency fund value, so display a message showing how many dollars away the member is from reaching the goal. (Subtract the total portfolio value from the emergency fund value.)\n"
   ]
  },
  {
   "cell_type": "markdown",
   "metadata": {},
   "source": [
    "##### Step 4-1: Create a variable named `emergency_fund_value`, and set it equal to three times the value of the member’s `monthly_income` of 12000. (You set this earlier in Part 1)."
   ]
  },
  {
   "cell_type": "code",
   "execution_count": 26,
   "metadata": {},
   "outputs": [],
   "source": [
    "# Create a variable named emergency_fund_value\n",
    "emergency_fund_value = 3 * monthly_income\n"
   ]
  },
  {
   "cell_type": "markdown",
   "metadata": {},
   "source": [
    "##### Step 4-2: Create a series of three if statements to determine if the member’s total portfolio is large enough to fund the emergency portfolio:\n",
    "\n",
    "* If the total portfolio value is greater than the emergency fund value, display a message congratulating the member for having enough money in this fund.\n",
    "\n",
    "* Else if the total portfolio value is equal to the emergency fund value, display a message congratulating the member on reaching this important financial goal.\n",
    "\n",
    "* Else the total portfolio is less than the emergency fund value, so display a message showing how many dollars away the member is from reaching the goal. (Subtract the total portfolio value from the emergency fund value.)"
   ]
  },
  {
   "cell_type": "code",
   "execution_count": 31,
   "metadata": {},
   "outputs": [
    {
     "name": "stdout",
     "output_type": "stream",
     "text": [
      "Congratulations! you have enough money\n"
     ]
    }
   ],
   "source": [
    "# Evaluate the possibility of creating an emergency fund with 3 conditions:\n",
    "if total_portfolio > emergency_fund_value:\n",
    "    print(\"Congratulations! you have enough money in this fund\")\n",
    "elif total_portfolio == emergency_fund_value:\n",
    "    print(\"Congratulations! you have reached this important financial goal\")\n",
    "else:\n",
    "    print(f\"You need {emergency_fund_value - total_portfolio} more dollars to reach this goal\")\n",
    "    \n"
   ]
  },
  {
   "cell_type": "markdown",
   "metadata": {},
   "source": [
    "## Part 2: Create a Financial Planner for Retirement"
   ]
  },
  {
   "cell_type": "markdown",
   "metadata": {},
   "source": [
    "### Create the Monte Carlo Simulation\n",
    "\n",
    "In this section, you’ll use the MCForecastTools library to create a Monte Carlo simulation for the member’s savings portfolio. To do this, complete the following steps:\n",
    "\n",
    "1. Make an API call via the Alpaca SDK to get 3 years of historical closing prices for a traditional 60/40 portfolio split: 60% stocks (SPY) and 40% bonds (AGG).\n",
    "\n",
    "2. Run a Monte Carlo simulation of 500 samples and 30 years for the 60/40 portfolio, and then plot the results.The following image shows the overlay line plot resulting from a simulation with these characteristics. However, because a random number generator is used to run each live Monte Carlo simulation, your image will differ slightly from this exact image:\n",
    "\n",
    "![A screenshot depicts the resulting plot.](Images/5-4-monte-carlo-line-plot.png)\n",
    "\n",
    "3. Plot the probability distribution of the Monte Carlo simulation. Plot the probability distribution of the Monte Carlo simulation. The following image shows the histogram plot resulting from a simulation with these characteristics. However, because a random number generator is used to run each live Monte Carlo simulation, your image will differ slightly from this exact image:\n",
    "\n",
    "![A screenshot depicts the histogram plot.](Images/5-4-monte-carlo-histogram.png)\n",
    "\n",
    "4. Generate the summary statistics for the Monte Carlo simulation.\n",
    "\n"
   ]
  },
  {
   "cell_type": "markdown",
   "metadata": {},
   "source": [
    "#### Step 1: Make an API call via the Alpaca SDK to get 3 years of historical closing prices for a traditional 60/40 portfolio split: 60% stocks (SPY) and 40% bonds (AGG)."
   ]
  },
  {
   "cell_type": "code",
   "execution_count": 49,
   "metadata": {},
   "outputs": [],
   "source": [
    "# Set start and end dates of 3 years back from your current date\n",
    "# Alternatively, you can use an end date of 2020-08-07 and work 3 years back from that date \n",
    "\n",
    "mc_tickers = ['SPY','AGG']\n",
    "start = pd.Timestamp('2019-01-28', tz=\"America/New_York\").isoformat()\n",
    "end = pd.Timestamp('2022-01-28', tz=\"America/New_York\").isoformat()\n",
    "\n"
   ]
  },
  {
   "cell_type": "code",
   "execution_count": 51,
   "metadata": {},
   "outputs": [
    {
     "name": "stderr",
     "output_type": "stream",
     "text": [
      "C:\\Users\\jason\\AppData\\Local\\Temp/ipykernel_22004/658018688.py:7: DeprecatedWarning: get_barset is deprecated as of v1.0.0. Use get_bars instead\n",
      "  mc_df = alpaca.get_barset(mc_tickers, start=start, end=end, timeframe=timeframe, limit=1000).df\n"
     ]
    },
    {
     "data": {
      "text/html": [
       "<div>\n",
       "<style scoped>\n",
       "    .dataframe tbody tr th:only-of-type {\n",
       "        vertical-align: middle;\n",
       "    }\n",
       "\n",
       "    .dataframe tbody tr th {\n",
       "        vertical-align: top;\n",
       "    }\n",
       "\n",
       "    .dataframe thead tr th {\n",
       "        text-align: left;\n",
       "    }\n",
       "\n",
       "    .dataframe thead tr:last-of-type th {\n",
       "        text-align: right;\n",
       "    }\n",
       "</style>\n",
       "<table border=\"1\" class=\"dataframe\">\n",
       "  <thead>\n",
       "    <tr>\n",
       "      <th></th>\n",
       "      <th colspan=\"5\" halign=\"left\">AGG</th>\n",
       "      <th colspan=\"5\" halign=\"left\">SPY</th>\n",
       "    </tr>\n",
       "    <tr>\n",
       "      <th></th>\n",
       "      <th>open</th>\n",
       "      <th>high</th>\n",
       "      <th>low</th>\n",
       "      <th>close</th>\n",
       "      <th>volume</th>\n",
       "      <th>open</th>\n",
       "      <th>high</th>\n",
       "      <th>low</th>\n",
       "      <th>close</th>\n",
       "      <th>volume</th>\n",
       "    </tr>\n",
       "    <tr>\n",
       "      <th>time</th>\n",
       "      <th></th>\n",
       "      <th></th>\n",
       "      <th></th>\n",
       "      <th></th>\n",
       "      <th></th>\n",
       "      <th></th>\n",
       "      <th></th>\n",
       "      <th></th>\n",
       "      <th></th>\n",
       "      <th></th>\n",
       "    </tr>\n",
       "  </thead>\n",
       "  <tbody>\n",
       "    <tr>\n",
       "      <th>2019-01-28 00:00:00-05:00</th>\n",
       "      <td>106.62</td>\n",
       "      <td>106.745</td>\n",
       "      <td>106.580</td>\n",
       "      <td>106.6550</td>\n",
       "      <td>6372589.0</td>\n",
       "      <td>263.39</td>\n",
       "      <td>263.82</td>\n",
       "      <td>261.79</td>\n",
       "      <td>263.6350</td>\n",
       "      <td>75207990</td>\n",
       "    </tr>\n",
       "    <tr>\n",
       "      <th>2019-01-29 00:00:00-05:00</th>\n",
       "      <td>106.73</td>\n",
       "      <td>106.910</td>\n",
       "      <td>106.685</td>\n",
       "      <td>106.9063</td>\n",
       "      <td>5399892.0</td>\n",
       "      <td>263.92</td>\n",
       "      <td>264.55</td>\n",
       "      <td>262.48</td>\n",
       "      <td>263.3100</td>\n",
       "      <td>54249161</td>\n",
       "    </tr>\n",
       "    <tr>\n",
       "      <th>2019-01-30 00:00:00-05:00</th>\n",
       "      <td>106.79</td>\n",
       "      <td>107.140</td>\n",
       "      <td>106.790</td>\n",
       "      <td>107.1400</td>\n",
       "      <td>4948983.0</td>\n",
       "      <td>265.10</td>\n",
       "      <td>268.52</td>\n",
       "      <td>264.25</td>\n",
       "      <td>267.4625</td>\n",
       "      <td>75091893</td>\n",
       "    </tr>\n",
       "    <tr>\n",
       "      <th>2019-01-31 00:00:00-05:00</th>\n",
       "      <td>107.30</td>\n",
       "      <td>107.530</td>\n",
       "      <td>107.290</td>\n",
       "      <td>107.4600</td>\n",
       "      <td>11394113.0</td>\n",
       "      <td>267.51</td>\n",
       "      <td>270.47</td>\n",
       "      <td>267.27</td>\n",
       "      <td>270.2325</td>\n",
       "      <td>73699733</td>\n",
       "    </tr>\n",
       "    <tr>\n",
       "      <th>2019-02-01 00:00:00-05:00</th>\n",
       "      <td>107.09</td>\n",
       "      <td>107.150</td>\n",
       "      <td>106.880</td>\n",
       "      <td>106.9600</td>\n",
       "      <td>5325410.0</td>\n",
       "      <td>270.15</td>\n",
       "      <td>271.20</td>\n",
       "      <td>269.18</td>\n",
       "      <td>270.0700</td>\n",
       "      <td>68194167</td>\n",
       "    </tr>\n",
       "  </tbody>\n",
       "</table>\n",
       "</div>"
      ],
      "text/plain": [
       "                              AGG                                          \\\n",
       "                             open     high      low     close      volume   \n",
       "time                                                                        \n",
       "2019-01-28 00:00:00-05:00  106.62  106.745  106.580  106.6550   6372589.0   \n",
       "2019-01-29 00:00:00-05:00  106.73  106.910  106.685  106.9063   5399892.0   \n",
       "2019-01-30 00:00:00-05:00  106.79  107.140  106.790  107.1400   4948983.0   \n",
       "2019-01-31 00:00:00-05:00  107.30  107.530  107.290  107.4600  11394113.0   \n",
       "2019-02-01 00:00:00-05:00  107.09  107.150  106.880  106.9600   5325410.0   \n",
       "\n",
       "                              SPY                                      \n",
       "                             open    high     low     close    volume  \n",
       "time                                                                   \n",
       "2019-01-28 00:00:00-05:00  263.39  263.82  261.79  263.6350  75207990  \n",
       "2019-01-29 00:00:00-05:00  263.92  264.55  262.48  263.3100  54249161  \n",
       "2019-01-30 00:00:00-05:00  265.10  268.52  264.25  267.4625  75091893  \n",
       "2019-01-31 00:00:00-05:00  267.51  270.47  267.27  270.2325  73699733  \n",
       "2019-02-01 00:00:00-05:00  270.15  271.20  269.18  270.0700  68194167  "
      ]
     },
     "metadata": {},
     "output_type": "display_data"
    },
    {
     "data": {
      "text/html": [
       "<div>\n",
       "<style scoped>\n",
       "    .dataframe tbody tr th:only-of-type {\n",
       "        vertical-align: middle;\n",
       "    }\n",
       "\n",
       "    .dataframe tbody tr th {\n",
       "        vertical-align: top;\n",
       "    }\n",
       "\n",
       "    .dataframe thead tr th {\n",
       "        text-align: left;\n",
       "    }\n",
       "\n",
       "    .dataframe thead tr:last-of-type th {\n",
       "        text-align: right;\n",
       "    }\n",
       "</style>\n",
       "<table border=\"1\" class=\"dataframe\">\n",
       "  <thead>\n",
       "    <tr>\n",
       "      <th></th>\n",
       "      <th colspan=\"5\" halign=\"left\">AGG</th>\n",
       "      <th colspan=\"5\" halign=\"left\">SPY</th>\n",
       "    </tr>\n",
       "    <tr>\n",
       "      <th></th>\n",
       "      <th>open</th>\n",
       "      <th>high</th>\n",
       "      <th>low</th>\n",
       "      <th>close</th>\n",
       "      <th>volume</th>\n",
       "      <th>open</th>\n",
       "      <th>high</th>\n",
       "      <th>low</th>\n",
       "      <th>close</th>\n",
       "      <th>volume</th>\n",
       "    </tr>\n",
       "    <tr>\n",
       "      <th>time</th>\n",
       "      <th></th>\n",
       "      <th></th>\n",
       "      <th></th>\n",
       "      <th></th>\n",
       "      <th></th>\n",
       "      <th></th>\n",
       "      <th></th>\n",
       "      <th></th>\n",
       "      <th></th>\n",
       "      <th></th>\n",
       "    </tr>\n",
       "  </thead>\n",
       "  <tbody>\n",
       "    <tr>\n",
       "      <th>2022-01-24 00:00:00-05:00</th>\n",
       "      <td>112.3814</td>\n",
       "      <td>112.42</td>\n",
       "      <td>112.10</td>\n",
       "      <td>112.12</td>\n",
       "      <td>10666672.0</td>\n",
       "      <td>432.03</td>\n",
       "      <td>440.38</td>\n",
       "      <td>420.76</td>\n",
       "      <td>439.88</td>\n",
       "      <td>233026938</td>\n",
       "    </tr>\n",
       "    <tr>\n",
       "      <th>2022-01-25 00:00:00-05:00</th>\n",
       "      <td>112.1800</td>\n",
       "      <td>112.30</td>\n",
       "      <td>111.96</td>\n",
       "      <td>112.00</td>\n",
       "      <td>9392367.0</td>\n",
       "      <td>433.06</td>\n",
       "      <td>439.72</td>\n",
       "      <td>364.68</td>\n",
       "      <td>434.51</td>\n",
       "      <td>148023735</td>\n",
       "    </tr>\n",
       "    <tr>\n",
       "      <th>2022-01-26 00:00:00-05:00</th>\n",
       "      <td>112.0600</td>\n",
       "      <td>112.13</td>\n",
       "      <td>111.36</td>\n",
       "      <td>111.36</td>\n",
       "      <td>10170465.0</td>\n",
       "      <td>440.72</td>\n",
       "      <td>444.04</td>\n",
       "      <td>428.86</td>\n",
       "      <td>433.45</td>\n",
       "      <td>174214548</td>\n",
       "    </tr>\n",
       "    <tr>\n",
       "      <th>2022-01-27 00:00:00-05:00</th>\n",
       "      <td>111.6200</td>\n",
       "      <td>111.88</td>\n",
       "      <td>111.62</td>\n",
       "      <td>111.72</td>\n",
       "      <td>5836124.0</td>\n",
       "      <td>438.26</td>\n",
       "      <td>441.58</td>\n",
       "      <td>429.45</td>\n",
       "      <td>431.27</td>\n",
       "      <td>136251597</td>\n",
       "    </tr>\n",
       "    <tr>\n",
       "      <th>2022-01-28 00:00:00-05:00</th>\n",
       "      <td>111.4600</td>\n",
       "      <td>111.86</td>\n",
       "      <td>111.44</td>\n",
       "      <td>111.81</td>\n",
       "      <td>10400422.0</td>\n",
       "      <td>432.70</td>\n",
       "      <td>442.00</td>\n",
       "      <td>427.82</td>\n",
       "      <td>441.92</td>\n",
       "      <td>142062305</td>\n",
       "    </tr>\n",
       "  </tbody>\n",
       "</table>\n",
       "</div>"
      ],
      "text/plain": [
       "                                AGG                                      \\\n",
       "                               open    high     low   close      volume   \n",
       "time                                                                      \n",
       "2022-01-24 00:00:00-05:00  112.3814  112.42  112.10  112.12  10666672.0   \n",
       "2022-01-25 00:00:00-05:00  112.1800  112.30  111.96  112.00   9392367.0   \n",
       "2022-01-26 00:00:00-05:00  112.0600  112.13  111.36  111.36  10170465.0   \n",
       "2022-01-27 00:00:00-05:00  111.6200  111.88  111.62  111.72   5836124.0   \n",
       "2022-01-28 00:00:00-05:00  111.4600  111.86  111.44  111.81  10400422.0   \n",
       "\n",
       "                              SPY                                     \n",
       "                             open    high     low   close     volume  \n",
       "time                                                                  \n",
       "2022-01-24 00:00:00-05:00  432.03  440.38  420.76  439.88  233026938  \n",
       "2022-01-25 00:00:00-05:00  433.06  439.72  364.68  434.51  148023735  \n",
       "2022-01-26 00:00:00-05:00  440.72  444.04  428.86  433.45  174214548  \n",
       "2022-01-27 00:00:00-05:00  438.26  441.58  429.45  431.27  136251597  \n",
       "2022-01-28 00:00:00-05:00  432.70  442.00  427.82  441.92  142062305  "
      ]
     },
     "metadata": {},
     "output_type": "display_data"
    }
   ],
   "source": [
    "# Use the Alpaca get_barset function to make the API call to get the 3 years worth of pricing data\n",
    "# The tickers and timeframe parameters should have been set in Part 1 of this activity \n",
    "# The start and end dates should be updated with the information set above\n",
    "# Remember to add the df property to the end of the call so the response is returned as a DataFrame\n",
    "\n",
    "# Display both the first and last five rows of the DataFrame\n",
    "mc_df = alpaca.get_barset(mc_tickers, start=start, end=end, timeframe=timeframe, limit=1000).df\n",
    "\n",
    "display(mc_df.head())\n",
    "display(mc_df.tail())\n"
   ]
  },
  {
   "cell_type": "markdown",
   "metadata": {},
   "source": [
    "#### Step 2: Run a Monte Carlo simulation of 500 samples and 30 years for the 60/40 portfolio, and then plot the results."
   ]
  },
  {
   "cell_type": "code",
   "execution_count": 56,
   "metadata": {},
   "outputs": [
    {
     "data": {
      "text/html": [
       "<div>\n",
       "<style scoped>\n",
       "    .dataframe tbody tr th:only-of-type {\n",
       "        vertical-align: middle;\n",
       "    }\n",
       "\n",
       "    .dataframe tbody tr th {\n",
       "        vertical-align: top;\n",
       "    }\n",
       "\n",
       "    .dataframe thead tr th {\n",
       "        text-align: left;\n",
       "    }\n",
       "\n",
       "    .dataframe thead tr:last-of-type th {\n",
       "        text-align: right;\n",
       "    }\n",
       "</style>\n",
       "<table border=\"1\" class=\"dataframe\">\n",
       "  <thead>\n",
       "    <tr>\n",
       "      <th></th>\n",
       "      <th colspan=\"6\" halign=\"left\">AGG</th>\n",
       "      <th colspan=\"6\" halign=\"left\">SPY</th>\n",
       "    </tr>\n",
       "    <tr>\n",
       "      <th></th>\n",
       "      <th>open</th>\n",
       "      <th>high</th>\n",
       "      <th>low</th>\n",
       "      <th>close</th>\n",
       "      <th>volume</th>\n",
       "      <th>daily_return</th>\n",
       "      <th>open</th>\n",
       "      <th>high</th>\n",
       "      <th>low</th>\n",
       "      <th>close</th>\n",
       "      <th>volume</th>\n",
       "      <th>daily_return</th>\n",
       "    </tr>\n",
       "    <tr>\n",
       "      <th>time</th>\n",
       "      <th></th>\n",
       "      <th></th>\n",
       "      <th></th>\n",
       "      <th></th>\n",
       "      <th></th>\n",
       "      <th></th>\n",
       "      <th></th>\n",
       "      <th></th>\n",
       "      <th></th>\n",
       "      <th></th>\n",
       "      <th></th>\n",
       "      <th></th>\n",
       "    </tr>\n",
       "  </thead>\n",
       "  <tbody>\n",
       "    <tr>\n",
       "      <th>2019-01-28 00:00:00-05:00</th>\n",
       "      <td>106.62</td>\n",
       "      <td>106.745</td>\n",
       "      <td>106.580</td>\n",
       "      <td>106.6550</td>\n",
       "      <td>6372589.0</td>\n",
       "      <td>NaN</td>\n",
       "      <td>263.39</td>\n",
       "      <td>263.82</td>\n",
       "      <td>261.79</td>\n",
       "      <td>263.6350</td>\n",
       "      <td>75207990</td>\n",
       "      <td>NaN</td>\n",
       "    </tr>\n",
       "    <tr>\n",
       "      <th>2019-01-29 00:00:00-05:00</th>\n",
       "      <td>106.73</td>\n",
       "      <td>106.910</td>\n",
       "      <td>106.685</td>\n",
       "      <td>106.9063</td>\n",
       "      <td>5399892.0</td>\n",
       "      <td>0.002356</td>\n",
       "      <td>263.92</td>\n",
       "      <td>264.55</td>\n",
       "      <td>262.48</td>\n",
       "      <td>263.3100</td>\n",
       "      <td>54249161</td>\n",
       "      <td>-0.001233</td>\n",
       "    </tr>\n",
       "    <tr>\n",
       "      <th>2019-01-30 00:00:00-05:00</th>\n",
       "      <td>106.79</td>\n",
       "      <td>107.140</td>\n",
       "      <td>106.790</td>\n",
       "      <td>107.1400</td>\n",
       "      <td>4948983.0</td>\n",
       "      <td>0.002186</td>\n",
       "      <td>265.10</td>\n",
       "      <td>268.52</td>\n",
       "      <td>264.25</td>\n",
       "      <td>267.4625</td>\n",
       "      <td>75091893</td>\n",
       "      <td>0.015770</td>\n",
       "    </tr>\n",
       "    <tr>\n",
       "      <th>2019-01-31 00:00:00-05:00</th>\n",
       "      <td>107.30</td>\n",
       "      <td>107.530</td>\n",
       "      <td>107.290</td>\n",
       "      <td>107.4600</td>\n",
       "      <td>11394113.0</td>\n",
       "      <td>0.002987</td>\n",
       "      <td>267.51</td>\n",
       "      <td>270.47</td>\n",
       "      <td>267.27</td>\n",
       "      <td>270.2325</td>\n",
       "      <td>73699733</td>\n",
       "      <td>0.010357</td>\n",
       "    </tr>\n",
       "    <tr>\n",
       "      <th>2019-02-01 00:00:00-05:00</th>\n",
       "      <td>107.09</td>\n",
       "      <td>107.150</td>\n",
       "      <td>106.880</td>\n",
       "      <td>106.9600</td>\n",
       "      <td>5325410.0</td>\n",
       "      <td>-0.004653</td>\n",
       "      <td>270.15</td>\n",
       "      <td>271.20</td>\n",
       "      <td>269.18</td>\n",
       "      <td>270.0700</td>\n",
       "      <td>68194167</td>\n",
       "      <td>-0.000601</td>\n",
       "    </tr>\n",
       "  </tbody>\n",
       "</table>\n",
       "</div>"
      ],
      "text/plain": [
       "                              AGG                                          \\\n",
       "                             open     high      low     close      volume   \n",
       "time                                                                        \n",
       "2019-01-28 00:00:00-05:00  106.62  106.745  106.580  106.6550   6372589.0   \n",
       "2019-01-29 00:00:00-05:00  106.73  106.910  106.685  106.9063   5399892.0   \n",
       "2019-01-30 00:00:00-05:00  106.79  107.140  106.790  107.1400   4948983.0   \n",
       "2019-01-31 00:00:00-05:00  107.30  107.530  107.290  107.4600  11394113.0   \n",
       "2019-02-01 00:00:00-05:00  107.09  107.150  106.880  106.9600   5325410.0   \n",
       "\n",
       "                                           SPY                            \\\n",
       "                          daily_return    open    high     low     close   \n",
       "time                                                                       \n",
       "2019-01-28 00:00:00-05:00          NaN  263.39  263.82  261.79  263.6350   \n",
       "2019-01-29 00:00:00-05:00     0.002356  263.92  264.55  262.48  263.3100   \n",
       "2019-01-30 00:00:00-05:00     0.002186  265.10  268.52  264.25  267.4625   \n",
       "2019-01-31 00:00:00-05:00     0.002987  267.51  270.47  267.27  270.2325   \n",
       "2019-02-01 00:00:00-05:00    -0.004653  270.15  271.20  269.18  270.0700   \n",
       "\n",
       "                                                  \n",
       "                             volume daily_return  \n",
       "time                                              \n",
       "2019-01-28 00:00:00-05:00  75207990          NaN  \n",
       "2019-01-29 00:00:00-05:00  54249161    -0.001233  \n",
       "2019-01-30 00:00:00-05:00  75091893     0.015770  \n",
       "2019-01-31 00:00:00-05:00  73699733     0.010357  \n",
       "2019-02-01 00:00:00-05:00  68194167    -0.000601  "
      ]
     },
     "execution_count": 56,
     "metadata": {},
     "output_type": "execute_result"
    }
   ],
   "source": [
    "# Configure the Monte Carlo simulation to forecast 30 years cumulative returns\n",
    "# The weights should be split 40% to AGG and 60% to SPY.\n",
    "# Run 500 samples.\n",
    "mc_simulator = MCSimulation(\n",
    "  portfolio_data = mc_df,\n",
    "  weights = [.40,.60],\n",
    "  num_simulation = 500,\n",
    "  num_trading_days = 252*30\n",
    ")\n",
    "\n",
    "# Review the simulation input data\n",
    "mc_simulator.portfolio_data.head()\n"
   ]
  },
  {
   "cell_type": "code",
   "execution_count": 57,
   "metadata": {},
   "outputs": [
    {
     "name": "stdout",
     "output_type": "stream",
     "text": [
      "Running Monte Carlo simulation number 0.\n",
      "Running Monte Carlo simulation number 10.\n",
      "Running Monte Carlo simulation number 20.\n",
      "Running Monte Carlo simulation number 30.\n",
      "Running Monte Carlo simulation number 40.\n",
      "Running Monte Carlo simulation number 50.\n",
      "Running Monte Carlo simulation number 60.\n",
      "Running Monte Carlo simulation number 70.\n",
      "Running Monte Carlo simulation number 80.\n",
      "Running Monte Carlo simulation number 90.\n",
      "Running Monte Carlo simulation number 100.\n"
     ]
    },
    {
     "name": "stderr",
     "output_type": "stream",
     "text": [
      "C:\\Users\\jason\\projects\\challenges\\module-5-challenge\\MCForecastTools.py:117: PerformanceWarning: DataFrame is highly fragmented.  This is usually the result of calling `frame.insert` many times, which has poor performance.  Consider joining all columns at once using pd.concat(axis=1) instead.  To get a de-fragmented frame, use `newframe = frame.copy()`\n",
      "  portfolio_cumulative_returns[n] = (1 + sim_df.fillna(0)).cumprod()\n"
     ]
    },
    {
     "name": "stdout",
     "output_type": "stream",
     "text": [
      "Running Monte Carlo simulation number 110.\n",
      "Running Monte Carlo simulation number 120.\n",
      "Running Monte Carlo simulation number 130.\n",
      "Running Monte Carlo simulation number 140.\n",
      "Running Monte Carlo simulation number 150.\n",
      "Running Monte Carlo simulation number 160.\n",
      "Running Monte Carlo simulation number 170.\n",
      "Running Monte Carlo simulation number 180.\n",
      "Running Monte Carlo simulation number 190.\n",
      "Running Monte Carlo simulation number 200.\n",
      "Running Monte Carlo simulation number 210.\n",
      "Running Monte Carlo simulation number 220.\n",
      "Running Monte Carlo simulation number 230.\n",
      "Running Monte Carlo simulation number 240.\n",
      "Running Monte Carlo simulation number 250.\n",
      "Running Monte Carlo simulation number 260.\n",
      "Running Monte Carlo simulation number 270.\n",
      "Running Monte Carlo simulation number 280.\n",
      "Running Monte Carlo simulation number 290.\n",
      "Running Monte Carlo simulation number 300.\n",
      "Running Monte Carlo simulation number 310.\n",
      "Running Monte Carlo simulation number 320.\n",
      "Running Monte Carlo simulation number 330.\n",
      "Running Monte Carlo simulation number 340.\n",
      "Running Monte Carlo simulation number 350.\n",
      "Running Monte Carlo simulation number 360.\n",
      "Running Monte Carlo simulation number 370.\n",
      "Running Monte Carlo simulation number 380.\n",
      "Running Monte Carlo simulation number 390.\n",
      "Running Monte Carlo simulation number 400.\n",
      "Running Monte Carlo simulation number 410.\n",
      "Running Monte Carlo simulation number 420.\n",
      "Running Monte Carlo simulation number 430.\n",
      "Running Monte Carlo simulation number 440.\n",
      "Running Monte Carlo simulation number 450.\n",
      "Running Monte Carlo simulation number 460.\n",
      "Running Monte Carlo simulation number 470.\n",
      "Running Monte Carlo simulation number 480.\n",
      "Running Monte Carlo simulation number 490.\n"
     ]
    },
    {
     "data": {
      "text/html": [
       "<div>\n",
       "<style scoped>\n",
       "    .dataframe tbody tr th:only-of-type {\n",
       "        vertical-align: middle;\n",
       "    }\n",
       "\n",
       "    .dataframe tbody tr th {\n",
       "        vertical-align: top;\n",
       "    }\n",
       "\n",
       "    .dataframe thead th {\n",
       "        text-align: right;\n",
       "    }\n",
       "</style>\n",
       "<table border=\"1\" class=\"dataframe\">\n",
       "  <thead>\n",
       "    <tr style=\"text-align: right;\">\n",
       "      <th></th>\n",
       "      <th>0</th>\n",
       "      <th>1</th>\n",
       "      <th>2</th>\n",
       "      <th>3</th>\n",
       "      <th>4</th>\n",
       "      <th>5</th>\n",
       "      <th>6</th>\n",
       "      <th>7</th>\n",
       "      <th>8</th>\n",
       "      <th>9</th>\n",
       "      <th>...</th>\n",
       "      <th>490</th>\n",
       "      <th>491</th>\n",
       "      <th>492</th>\n",
       "      <th>493</th>\n",
       "      <th>494</th>\n",
       "      <th>495</th>\n",
       "      <th>496</th>\n",
       "      <th>497</th>\n",
       "      <th>498</th>\n",
       "      <th>499</th>\n",
       "    </tr>\n",
       "  </thead>\n",
       "  <tbody>\n",
       "    <tr>\n",
       "      <th>0</th>\n",
       "      <td>1.000000</td>\n",
       "      <td>1.000000</td>\n",
       "      <td>1.000000</td>\n",
       "      <td>1.000000</td>\n",
       "      <td>1.000000</td>\n",
       "      <td>1.000000</td>\n",
       "      <td>1.000000</td>\n",
       "      <td>1.000000</td>\n",
       "      <td>1.000000</td>\n",
       "      <td>1.000000</td>\n",
       "      <td>...</td>\n",
       "      <td>1.000000</td>\n",
       "      <td>1.000000</td>\n",
       "      <td>1.000000</td>\n",
       "      <td>1.000000</td>\n",
       "      <td>1.000000</td>\n",
       "      <td>1.000000</td>\n",
       "      <td>1.000000</td>\n",
       "      <td>1.000000</td>\n",
       "      <td>1.000000</td>\n",
       "      <td>1.000000</td>\n",
       "    </tr>\n",
       "    <tr>\n",
       "      <th>1</th>\n",
       "      <td>1.002423</td>\n",
       "      <td>0.990114</td>\n",
       "      <td>1.021777</td>\n",
       "      <td>1.010733</td>\n",
       "      <td>0.997684</td>\n",
       "      <td>0.988498</td>\n",
       "      <td>0.986288</td>\n",
       "      <td>0.993840</td>\n",
       "      <td>0.997093</td>\n",
       "      <td>0.991225</td>\n",
       "      <td>...</td>\n",
       "      <td>1.014648</td>\n",
       "      <td>1.001931</td>\n",
       "      <td>0.998421</td>\n",
       "      <td>1.000942</td>\n",
       "      <td>0.998794</td>\n",
       "      <td>1.010696</td>\n",
       "      <td>1.007648</td>\n",
       "      <td>1.010505</td>\n",
       "      <td>0.997423</td>\n",
       "      <td>1.000032</td>\n",
       "    </tr>\n",
       "    <tr>\n",
       "      <th>2</th>\n",
       "      <td>1.015911</td>\n",
       "      <td>0.994484</td>\n",
       "      <td>1.017818</td>\n",
       "      <td>1.019781</td>\n",
       "      <td>0.992696</td>\n",
       "      <td>0.998675</td>\n",
       "      <td>0.981039</td>\n",
       "      <td>0.991758</td>\n",
       "      <td>0.991923</td>\n",
       "      <td>0.999142</td>\n",
       "      <td>...</td>\n",
       "      <td>1.004897</td>\n",
       "      <td>1.005319</td>\n",
       "      <td>0.994463</td>\n",
       "      <td>1.002441</td>\n",
       "      <td>1.004925</td>\n",
       "      <td>1.019276</td>\n",
       "      <td>1.003473</td>\n",
       "      <td>1.000956</td>\n",
       "      <td>1.008804</td>\n",
       "      <td>0.994621</td>\n",
       "    </tr>\n",
       "    <tr>\n",
       "      <th>3</th>\n",
       "      <td>1.005482</td>\n",
       "      <td>0.991608</td>\n",
       "      <td>1.019209</td>\n",
       "      <td>1.016015</td>\n",
       "      <td>0.990460</td>\n",
       "      <td>1.005415</td>\n",
       "      <td>0.970831</td>\n",
       "      <td>0.997544</td>\n",
       "      <td>0.989108</td>\n",
       "      <td>0.998962</td>\n",
       "      <td>...</td>\n",
       "      <td>1.000250</td>\n",
       "      <td>1.003437</td>\n",
       "      <td>0.994955</td>\n",
       "      <td>1.018779</td>\n",
       "      <td>0.998517</td>\n",
       "      <td>1.023039</td>\n",
       "      <td>0.989403</td>\n",
       "      <td>1.004463</td>\n",
       "      <td>0.998181</td>\n",
       "      <td>0.996784</td>\n",
       "    </tr>\n",
       "    <tr>\n",
       "      <th>4</th>\n",
       "      <td>0.992174</td>\n",
       "      <td>0.990195</td>\n",
       "      <td>1.040917</td>\n",
       "      <td>1.015929</td>\n",
       "      <td>1.011036</td>\n",
       "      <td>1.000240</td>\n",
       "      <td>0.959677</td>\n",
       "      <td>0.983590</td>\n",
       "      <td>0.982929</td>\n",
       "      <td>0.999395</td>\n",
       "      <td>...</td>\n",
       "      <td>0.996975</td>\n",
       "      <td>1.004670</td>\n",
       "      <td>1.005879</td>\n",
       "      <td>1.013422</td>\n",
       "      <td>1.001111</td>\n",
       "      <td>1.021371</td>\n",
       "      <td>0.982974</td>\n",
       "      <td>1.017832</td>\n",
       "      <td>1.003788</td>\n",
       "      <td>0.979330</td>\n",
       "    </tr>\n",
       "    <tr>\n",
       "      <th>...</th>\n",
       "      <td>...</td>\n",
       "      <td>...</td>\n",
       "      <td>...</td>\n",
       "      <td>...</td>\n",
       "      <td>...</td>\n",
       "      <td>...</td>\n",
       "      <td>...</td>\n",
       "      <td>...</td>\n",
       "      <td>...</td>\n",
       "      <td>...</td>\n",
       "      <td>...</td>\n",
       "      <td>...</td>\n",
       "      <td>...</td>\n",
       "      <td>...</td>\n",
       "      <td>...</td>\n",
       "      <td>...</td>\n",
       "      <td>...</td>\n",
       "      <td>...</td>\n",
       "      <td>...</td>\n",
       "      <td>...</td>\n",
       "      <td>...</td>\n",
       "    </tr>\n",
       "    <tr>\n",
       "      <th>7556</th>\n",
       "      <td>11.524234</td>\n",
       "      <td>7.761647</td>\n",
       "      <td>83.974358</td>\n",
       "      <td>25.664912</td>\n",
       "      <td>51.464849</td>\n",
       "      <td>56.970543</td>\n",
       "      <td>29.991076</td>\n",
       "      <td>13.106878</td>\n",
       "      <td>83.341184</td>\n",
       "      <td>20.603602</td>\n",
       "      <td>...</td>\n",
       "      <td>49.540239</td>\n",
       "      <td>8.445128</td>\n",
       "      <td>38.550982</td>\n",
       "      <td>69.736895</td>\n",
       "      <td>17.223067</td>\n",
       "      <td>23.661063</td>\n",
       "      <td>49.266839</td>\n",
       "      <td>21.495057</td>\n",
       "      <td>38.613541</td>\n",
       "      <td>49.204588</td>\n",
       "    </tr>\n",
       "    <tr>\n",
       "      <th>7557</th>\n",
       "      <td>11.593445</td>\n",
       "      <td>7.837839</td>\n",
       "      <td>84.448608</td>\n",
       "      <td>25.785989</td>\n",
       "      <td>51.200862</td>\n",
       "      <td>57.165402</td>\n",
       "      <td>29.817806</td>\n",
       "      <td>12.977002</td>\n",
       "      <td>83.586932</td>\n",
       "      <td>20.665847</td>\n",
       "      <td>...</td>\n",
       "      <td>49.237228</td>\n",
       "      <td>8.449301</td>\n",
       "      <td>38.582077</td>\n",
       "      <td>69.578985</td>\n",
       "      <td>17.422486</td>\n",
       "      <td>23.868967</td>\n",
       "      <td>49.828238</td>\n",
       "      <td>21.369988</td>\n",
       "      <td>38.433084</td>\n",
       "      <td>49.640826</td>\n",
       "    </tr>\n",
       "    <tr>\n",
       "      <th>7558</th>\n",
       "      <td>11.619131</td>\n",
       "      <td>7.870655</td>\n",
       "      <td>84.163615</td>\n",
       "      <td>25.494877</td>\n",
       "      <td>51.433273</td>\n",
       "      <td>58.110754</td>\n",
       "      <td>29.744833</td>\n",
       "      <td>12.916513</td>\n",
       "      <td>84.702790</td>\n",
       "      <td>20.796872</td>\n",
       "      <td>...</td>\n",
       "      <td>49.458340</td>\n",
       "      <td>8.377873</td>\n",
       "      <td>38.392339</td>\n",
       "      <td>68.591695</td>\n",
       "      <td>17.319682</td>\n",
       "      <td>24.038906</td>\n",
       "      <td>49.996009</td>\n",
       "      <td>21.057909</td>\n",
       "      <td>38.464828</td>\n",
       "      <td>49.383751</td>\n",
       "    </tr>\n",
       "    <tr>\n",
       "      <th>7559</th>\n",
       "      <td>11.691502</td>\n",
       "      <td>7.855687</td>\n",
       "      <td>83.507816</td>\n",
       "      <td>25.316444</td>\n",
       "      <td>50.973847</td>\n",
       "      <td>57.594161</td>\n",
       "      <td>29.757013</td>\n",
       "      <td>12.960596</td>\n",
       "      <td>85.164055</td>\n",
       "      <td>20.727826</td>\n",
       "      <td>...</td>\n",
       "      <td>49.494916</td>\n",
       "      <td>8.438250</td>\n",
       "      <td>38.481763</td>\n",
       "      <td>68.929466</td>\n",
       "      <td>17.119087</td>\n",
       "      <td>24.206468</td>\n",
       "      <td>49.027273</td>\n",
       "      <td>21.017042</td>\n",
       "      <td>38.685875</td>\n",
       "      <td>49.244815</td>\n",
       "    </tr>\n",
       "    <tr>\n",
       "      <th>7560</th>\n",
       "      <td>11.667049</td>\n",
       "      <td>7.739537</td>\n",
       "      <td>83.732301</td>\n",
       "      <td>25.586098</td>\n",
       "      <td>50.165815</td>\n",
       "      <td>57.863672</td>\n",
       "      <td>30.047799</td>\n",
       "      <td>13.053299</td>\n",
       "      <td>86.000942</td>\n",
       "      <td>20.610704</td>\n",
       "      <td>...</td>\n",
       "      <td>50.018016</td>\n",
       "      <td>8.480679</td>\n",
       "      <td>38.387930</td>\n",
       "      <td>67.137943</td>\n",
       "      <td>17.105215</td>\n",
       "      <td>24.101892</td>\n",
       "      <td>48.534996</td>\n",
       "      <td>21.379772</td>\n",
       "      <td>38.949880</td>\n",
       "      <td>49.391261</td>\n",
       "    </tr>\n",
       "  </tbody>\n",
       "</table>\n",
       "<p>7561 rows × 500 columns</p>\n",
       "</div>"
      ],
      "text/plain": [
       "            0         1          2          3          4          5    \\\n",
       "0      1.000000  1.000000   1.000000   1.000000   1.000000   1.000000   \n",
       "1      1.002423  0.990114   1.021777   1.010733   0.997684   0.988498   \n",
       "2      1.015911  0.994484   1.017818   1.019781   0.992696   0.998675   \n",
       "3      1.005482  0.991608   1.019209   1.016015   0.990460   1.005415   \n",
       "4      0.992174  0.990195   1.040917   1.015929   1.011036   1.000240   \n",
       "...         ...       ...        ...        ...        ...        ...   \n",
       "7556  11.524234  7.761647  83.974358  25.664912  51.464849  56.970543   \n",
       "7557  11.593445  7.837839  84.448608  25.785989  51.200862  57.165402   \n",
       "7558  11.619131  7.870655  84.163615  25.494877  51.433273  58.110754   \n",
       "7559  11.691502  7.855687  83.507816  25.316444  50.973847  57.594161   \n",
       "7560  11.667049  7.739537  83.732301  25.586098  50.165815  57.863672   \n",
       "\n",
       "            6          7          8          9    ...        490       491  \\\n",
       "0      1.000000   1.000000   1.000000   1.000000  ...   1.000000  1.000000   \n",
       "1      0.986288   0.993840   0.997093   0.991225  ...   1.014648  1.001931   \n",
       "2      0.981039   0.991758   0.991923   0.999142  ...   1.004897  1.005319   \n",
       "3      0.970831   0.997544   0.989108   0.998962  ...   1.000250  1.003437   \n",
       "4      0.959677   0.983590   0.982929   0.999395  ...   0.996975  1.004670   \n",
       "...         ...        ...        ...        ...  ...        ...       ...   \n",
       "7556  29.991076  13.106878  83.341184  20.603602  ...  49.540239  8.445128   \n",
       "7557  29.817806  12.977002  83.586932  20.665847  ...  49.237228  8.449301   \n",
       "7558  29.744833  12.916513  84.702790  20.796872  ...  49.458340  8.377873   \n",
       "7559  29.757013  12.960596  85.164055  20.727826  ...  49.494916  8.438250   \n",
       "7560  30.047799  13.053299  86.000942  20.610704  ...  50.018016  8.480679   \n",
       "\n",
       "            492        493        494        495        496        497  \\\n",
       "0      1.000000   1.000000   1.000000   1.000000   1.000000   1.000000   \n",
       "1      0.998421   1.000942   0.998794   1.010696   1.007648   1.010505   \n",
       "2      0.994463   1.002441   1.004925   1.019276   1.003473   1.000956   \n",
       "3      0.994955   1.018779   0.998517   1.023039   0.989403   1.004463   \n",
       "4      1.005879   1.013422   1.001111   1.021371   0.982974   1.017832   \n",
       "...         ...        ...        ...        ...        ...        ...   \n",
       "7556  38.550982  69.736895  17.223067  23.661063  49.266839  21.495057   \n",
       "7557  38.582077  69.578985  17.422486  23.868967  49.828238  21.369988   \n",
       "7558  38.392339  68.591695  17.319682  24.038906  49.996009  21.057909   \n",
       "7559  38.481763  68.929466  17.119087  24.206468  49.027273  21.017042   \n",
       "7560  38.387930  67.137943  17.105215  24.101892  48.534996  21.379772   \n",
       "\n",
       "            498        499  \n",
       "0      1.000000   1.000000  \n",
       "1      0.997423   1.000032  \n",
       "2      1.008804   0.994621  \n",
       "3      0.998181   0.996784  \n",
       "4      1.003788   0.979330  \n",
       "...         ...        ...  \n",
       "7556  38.613541  49.204588  \n",
       "7557  38.433084  49.640826  \n",
       "7558  38.464828  49.383751  \n",
       "7559  38.685875  49.244815  \n",
       "7560  38.949880  49.391261  \n",
       "\n",
       "[7561 rows x 500 columns]"
      ]
     },
     "execution_count": 57,
     "metadata": {},
     "output_type": "execute_result"
    }
   ],
   "source": [
    "# Run the Monte Carlo simulation to forecast 30 years cumulative returns\n",
    "mc_simulator.calc_cumulative_return()"
   ]
  },
  {
   "cell_type": "code",
   "execution_count": 58,
   "metadata": {},
   "outputs": [
    {
     "data": {
      "text/plain": [
       "<AxesSubplot:title={'center':'500 Simulations of Cumulative Portfolio Return Trajectories Over the Next 7560 Trading Days.'}>"
      ]
     },
     "execution_count": 58,
     "metadata": {},
     "output_type": "execute_result"
    },
    {
     "data": {
      "image/png": "[encoded data removed]",
      "text/plain": [
       "<Figure size 432x288 with 1 Axes>"
      ]
     },
     "metadata": {
      "needs_background": "light"
     },
     "output_type": "display_data"
    }
   ],
   "source": [
    "# Visualize the 30-year Monte Carlo simulation by creating an\n",
    "# overlay line plot\n",
    "mc_simulator.plot_simulation()"
   ]
  },
  {
   "cell_type": "markdown",
   "metadata": {},
   "source": [
    "#### Step 3: Plot the probability distribution of the Monte Carlo simulation."
   ]
  },
  {
   "cell_type": "code",
   "execution_count": 59,
   "metadata": {},
   "outputs": [
    {
     "data": {
      "text/plain": [
       "<AxesSubplot:title={'center':'Distribution of Final Cumuluative Returns Across All 500 Simulations'}, ylabel='Frequency'>"
      ]
     },
     "execution_count": 59,
     "metadata": {},
     "output_type": "execute_result"
    },
    {
     "data": {
      "image/png": "[encoded data removed]",
      "text/plain": [
       "<Figure size 432x288 with 1 Axes>"
      ]
     },
     "metadata": {
      "needs_background": "light"
     },
     "output_type": "display_data"
    }
   ],
   "source": [
    "# Visualize the probability distribution of the 30-year Monte Carlo simulation \n",
    "# by plotting a histogram\n",
    "mc_simulator.plot_distribution()"
   ]
  },
  {
   "cell_type": "markdown",
   "metadata": {},
   "source": [
    "#### Step 4: Generate the summary statistics for the Monte Carlo simulation."
   ]
  },
  {
   "cell_type": "code",
   "execution_count": 60,
   "metadata": {},
   "outputs": [
    {
     "name": "stdout",
     "output_type": "stream",
     "text": [
      "count           500.000000\n",
      "mean             42.390323\n",
      "std              34.590695\n",
      "min               4.432813\n",
      "25%              19.194686\n",
      "50%              32.202460\n",
      "75%              51.996363\n",
      "max             222.769201\n",
      "95% CI Lower      7.277396\n",
      "95% CI Upper    135.981737\n",
      "Name: 7560, dtype: float64\n"
     ]
    }
   ],
   "source": [
    "# Generate summary statistics from the 30-year Monte Carlo simulation results\n",
    "# Save the results as a variable\n",
    "mc_stats = mc_simulator.summarize_cumulative_return()\n",
    "\n",
    "# Review the 30-year Monte Carlo summary statistics\n",
    "print(mc_stats)"
   ]
  },
  {
   "cell_type": "markdown",
   "metadata": {},
   "source": [
    "### Analyze the Retirement Portfolio Forecasts\n",
    "\n",
    "Using the current value of only the stock and bond portion of the member's portfolio and the summary statistics that you generated from the Monte Carlo simulation, answer the following question in your Jupyter notebook:\n",
    "\n",
    "-  What are the lower and upper bounds for the expected value of the portfolio with a 95% confidence interval?\n"
   ]
  },
  {
   "cell_type": "code",
   "execution_count": 62,
   "metadata": {},
   "outputs": [
    {
     "data": {
      "text/plain": [
       "70973.2"
      ]
     },
     "execution_count": 62,
     "metadata": {},
     "output_type": "execute_result"
    }
   ],
   "source": [
    "# Print the current balance of the stock and bond portion of the members portfolio\n",
    "total_stocks_bonds\n"
   ]
  },
  {
   "cell_type": "code",
   "execution_count": 64,
   "metadata": {},
   "outputs": [
    {
     "name": "stdout",
     "output_type": "stream",
     "text": [
      "There is a 95% cange that your portfolio will be worth between $ 516500.06 and $ 9651059.02\n"
     ]
    }
   ],
   "source": [
    "# Use the lower and upper `95%` confidence intervals to calculate the range of the possible outcomes for the current stock/bond portfolio\n",
    "ci_lower_thirty_cumulative_return = mc_stats[8]*total_stocks_bonds\n",
    "ci_upper_thirty_cumulative_return = mc_stats[9]*total_stocks_bonds\n",
    "\n",
    "# Print the result of your calculations\n",
    "print(f\"There is a 95% cange that your portfolio will be worth between ${ci_lower_thirty_cumulative_return: .2f} and ${ci_upper_thirty_cumulative_return: .2f} in 30 years\")"
   ]
  },
  {
   "cell_type": "markdown",
   "metadata": {},
   "source": [
    "### Forecast Cumulative Returns in 10 Years\n",
    "\n",
    "The CTO of the credit union is impressed with your work on these planning tools but wonders if 30 years is a long time to wait until retirement. So, your next task is to adjust the retirement portfolio and run a new Monte Carlo simulation to find out if the changes will allow members to retire earlier.\n",
    "\n",
    "For this new Monte Carlo simulation, do the following: \n",
    "\n",
    "- Forecast the cumulative returns for 10 years from now. Because of the shortened investment horizon (30 years to 10 years), the portfolio needs to invest more heavily in the riskier asset&mdash;that is, stock&mdash;to help accumulate wealth for retirement. \n",
    "\n",
    "- Adjust the weights of the retirement portfolio so that the composition for the Monte Carlo simulation consists of 20% bonds and 80% stocks. \n",
    "\n",
    "- Run the simulation over 500 samples, and use the same data that the API call to Alpaca generated.\n",
    "\n",
    "- Based on the new Monte Carlo simulation, answer the following questions in your Jupyter notebook:\n",
    "\n",
    "    - Using the current value of only the stock and bond portion of the member's portfolio and the summary statistics that you generated from the new Monte Carlo simulation, what are the lower and upper bounds for the expected value of the portfolio (with the new weights) with a 95% confidence interval?\n",
    "\n",
    "    - Will weighting the portfolio more heavily toward stocks allow the credit union members to retire after only 10 years?\n"
   ]
  },
  {
   "cell_type": "code",
   "execution_count": 80,
   "metadata": {},
   "outputs": [
    {
     "data": {
      "text/html": [
       "<div>\n",
       "<style scoped>\n",
       "    .dataframe tbody tr th:only-of-type {\n",
       "        vertical-align: middle;\n",
       "    }\n",
       "\n",
       "    .dataframe tbody tr th {\n",
       "        vertical-align: top;\n",
       "    }\n",
       "\n",
       "    .dataframe thead tr th {\n",
       "        text-align: left;\n",
       "    }\n",
       "\n",
       "    .dataframe thead tr:last-of-type th {\n",
       "        text-align: right;\n",
       "    }\n",
       "</style>\n",
       "<table border=\"1\" class=\"dataframe\">\n",
       "  <thead>\n",
       "    <tr>\n",
       "      <th></th>\n",
       "      <th colspan=\"6\" halign=\"left\">AGG</th>\n",
       "      <th colspan=\"6\" halign=\"left\">SPY</th>\n",
       "    </tr>\n",
       "    <tr>\n",
       "      <th></th>\n",
       "      <th>open</th>\n",
       "      <th>high</th>\n",
       "      <th>low</th>\n",
       "      <th>close</th>\n",
       "      <th>volume</th>\n",
       "      <th>daily_return</th>\n",
       "      <th>open</th>\n",
       "      <th>high</th>\n",
       "      <th>low</th>\n",
       "      <th>close</th>\n",
       "      <th>volume</th>\n",
       "      <th>daily_return</th>\n",
       "    </tr>\n",
       "    <tr>\n",
       "      <th>time</th>\n",
       "      <th></th>\n",
       "      <th></th>\n",
       "      <th></th>\n",
       "      <th></th>\n",
       "      <th></th>\n",
       "      <th></th>\n",
       "      <th></th>\n",
       "      <th></th>\n",
       "      <th></th>\n",
       "      <th></th>\n",
       "      <th></th>\n",
       "      <th></th>\n",
       "    </tr>\n",
       "  </thead>\n",
       "  <tbody>\n",
       "    <tr>\n",
       "      <th>2019-01-28 00:00:00-05:00</th>\n",
       "      <td>106.62</td>\n",
       "      <td>106.745</td>\n",
       "      <td>106.580</td>\n",
       "      <td>106.6550</td>\n",
       "      <td>6372589.0</td>\n",
       "      <td>NaN</td>\n",
       "      <td>263.39</td>\n",
       "      <td>263.82</td>\n",
       "      <td>261.79</td>\n",
       "      <td>263.6350</td>\n",
       "      <td>75207990</td>\n",
       "      <td>NaN</td>\n",
       "    </tr>\n",
       "    <tr>\n",
       "      <th>2019-01-29 00:00:00-05:00</th>\n",
       "      <td>106.73</td>\n",
       "      <td>106.910</td>\n",
       "      <td>106.685</td>\n",
       "      <td>106.9063</td>\n",
       "      <td>5399892.0</td>\n",
       "      <td>0.002356</td>\n",
       "      <td>263.92</td>\n",
       "      <td>264.55</td>\n",
       "      <td>262.48</td>\n",
       "      <td>263.3100</td>\n",
       "      <td>54249161</td>\n",
       "      <td>-0.001233</td>\n",
       "    </tr>\n",
       "    <tr>\n",
       "      <th>2019-01-30 00:00:00-05:00</th>\n",
       "      <td>106.79</td>\n",
       "      <td>107.140</td>\n",
       "      <td>106.790</td>\n",
       "      <td>107.1400</td>\n",
       "      <td>4948983.0</td>\n",
       "      <td>0.002186</td>\n",
       "      <td>265.10</td>\n",
       "      <td>268.52</td>\n",
       "      <td>264.25</td>\n",
       "      <td>267.4625</td>\n",
       "      <td>75091893</td>\n",
       "      <td>0.015770</td>\n",
       "    </tr>\n",
       "    <tr>\n",
       "      <th>2019-01-31 00:00:00-05:00</th>\n",
       "      <td>107.30</td>\n",
       "      <td>107.530</td>\n",
       "      <td>107.290</td>\n",
       "      <td>107.4600</td>\n",
       "      <td>11394113.0</td>\n",
       "      <td>0.002987</td>\n",
       "      <td>267.51</td>\n",
       "      <td>270.47</td>\n",
       "      <td>267.27</td>\n",
       "      <td>270.2325</td>\n",
       "      <td>73699733</td>\n",
       "      <td>0.010357</td>\n",
       "    </tr>\n",
       "    <tr>\n",
       "      <th>2019-02-01 00:00:00-05:00</th>\n",
       "      <td>107.09</td>\n",
       "      <td>107.150</td>\n",
       "      <td>106.880</td>\n",
       "      <td>106.9600</td>\n",
       "      <td>5325410.0</td>\n",
       "      <td>-0.004653</td>\n",
       "      <td>270.15</td>\n",
       "      <td>271.20</td>\n",
       "      <td>269.18</td>\n",
       "      <td>270.0700</td>\n",
       "      <td>68194167</td>\n",
       "      <td>-0.000601</td>\n",
       "    </tr>\n",
       "  </tbody>\n",
       "</table>\n",
       "</div>"
      ],
      "text/plain": [
       "                              AGG                                          \\\n",
       "                             open     high      low     close      volume   \n",
       "time                                                                        \n",
       "2019-01-28 00:00:00-05:00  106.62  106.745  106.580  106.6550   6372589.0   \n",
       "2019-01-29 00:00:00-05:00  106.73  106.910  106.685  106.9063   5399892.0   \n",
       "2019-01-30 00:00:00-05:00  106.79  107.140  106.790  107.1400   4948983.0   \n",
       "2019-01-31 00:00:00-05:00  107.30  107.530  107.290  107.4600  11394113.0   \n",
       "2019-02-01 00:00:00-05:00  107.09  107.150  106.880  106.9600   5325410.0   \n",
       "\n",
       "                                           SPY                            \\\n",
       "                          daily_return    open    high     low     close   \n",
       "time                                                                       \n",
       "2019-01-28 00:00:00-05:00          NaN  263.39  263.82  261.79  263.6350   \n",
       "2019-01-29 00:00:00-05:00     0.002356  263.92  264.55  262.48  263.3100   \n",
       "2019-01-30 00:00:00-05:00     0.002186  265.10  268.52  264.25  267.4625   \n",
       "2019-01-31 00:00:00-05:00     0.002987  267.51  270.47  267.27  270.2325   \n",
       "2019-02-01 00:00:00-05:00    -0.004653  270.15  271.20  269.18  270.0700   \n",
       "\n",
       "                                                  \n",
       "                             volume daily_return  \n",
       "time                                              \n",
       "2019-01-28 00:00:00-05:00  75207990          NaN  \n",
       "2019-01-29 00:00:00-05:00  54249161    -0.001233  \n",
       "2019-01-30 00:00:00-05:00  75091893     0.015770  \n",
       "2019-01-31 00:00:00-05:00  73699733     0.010357  \n",
       "2019-02-01 00:00:00-05:00  68194167    -0.000601  "
      ]
     },
     "execution_count": 80,
     "metadata": {},
     "output_type": "execute_result"
    }
   ],
   "source": [
    "# Configure a Monte Carlo simulation to forecast 10 years cumulative returns\n",
    "# The weights should be split 20% to AGG and 80% to SPY.\n",
    "# Run 500 samples.\n",
    "mc_10yr_simulator = MCSimulation(\n",
    "  portfolio_data = mc_df,\n",
    "  weights = [.20,.80],\n",
    "  num_simulation = 500,\n",
    "  num_trading_days = 252*10\n",
    ")\n",
    "\n",
    "# Review the simulation input data\n",
    "mc_10yr_simulator.portfolio_data.head()\n",
    "\n"
   ]
  },
  {
   "cell_type": "code",
   "execution_count": 81,
   "metadata": {},
   "outputs": [
    {
     "name": "stdout",
     "output_type": "stream",
     "text": [
      "Running Monte Carlo simulation number 0.\n",
      "Running Monte Carlo simulation number 10.\n",
      "Running Monte Carlo simulation number 20.\n",
      "Running Monte Carlo simulation number 30.\n",
      "Running Monte Carlo simulation number 40.\n",
      "Running Monte Carlo simulation number 50.\n",
      "Running Monte Carlo simulation number 60.\n",
      "Running Monte Carlo simulation number 70.\n",
      "Running Monte Carlo simulation number 80.\n",
      "Running Monte Carlo simulation number 90.\n",
      "Running Monte Carlo simulation number 100.\n"
     ]
    },
    {
     "name": "stderr",
     "output_type": "stream",
     "text": [
      "C:\\Users\\jason\\projects\\challenges\\module-5-challenge\\MCForecastTools.py:117: PerformanceWarning: DataFrame is highly fragmented.  This is usually the result of calling `frame.insert` many times, which has poor performance.  Consider joining all columns at once using pd.concat(axis=1) instead.  To get a de-fragmented frame, use `newframe = frame.copy()`\n",
      "  portfolio_cumulative_returns[n] = (1 + sim_df.fillna(0)).cumprod()\n"
     ]
    },
    {
     "name": "stdout",
     "output_type": "stream",
     "text": [
      "Running Monte Carlo simulation number 110.\n",
      "Running Monte Carlo simulation number 120.\n",
      "Running Monte Carlo simulation number 130.\n",
      "Running Monte Carlo simulation number 140.\n",
      "Running Monte Carlo simulation number 150.\n",
      "Running Monte Carlo simulation number 160.\n",
      "Running Monte Carlo simulation number 170.\n",
      "Running Monte Carlo simulation number 180.\n",
      "Running Monte Carlo simulation number 190.\n",
      "Running Monte Carlo simulation number 200.\n",
      "Running Monte Carlo simulation number 210.\n",
      "Running Monte Carlo simulation number 220.\n",
      "Running Monte Carlo simulation number 230.\n",
      "Running Monte Carlo simulation number 240.\n",
      "Running Monte Carlo simulation number 250.\n",
      "Running Monte Carlo simulation number 260.\n",
      "Running Monte Carlo simulation number 270.\n",
      "Running Monte Carlo simulation number 280.\n",
      "Running Monte Carlo simulation number 290.\n",
      "Running Monte Carlo simulation number 300.\n",
      "Running Monte Carlo simulation number 310.\n",
      "Running Monte Carlo simulation number 320.\n",
      "Running Monte Carlo simulation number 330.\n",
      "Running Monte Carlo simulation number 340.\n",
      "Running Monte Carlo simulation number 350.\n",
      "Running Monte Carlo simulation number 360.\n",
      "Running Monte Carlo simulation number 370.\n",
      "Running Monte Carlo simulation number 380.\n",
      "Running Monte Carlo simulation number 390.\n",
      "Running Monte Carlo simulation number 400.\n",
      "Running Monte Carlo simulation number 410.\n",
      "Running Monte Carlo simulation number 420.\n",
      "Running Monte Carlo simulation number 430.\n",
      "Running Monte Carlo simulation number 440.\n",
      "Running Monte Carlo simulation number 450.\n",
      "Running Monte Carlo simulation number 460.\n",
      "Running Monte Carlo simulation number 470.\n",
      "Running Monte Carlo simulation number 480.\n",
      "Running Monte Carlo simulation number 490.\n"
     ]
    },
    {
     "data": {
      "text/html": [
       "<div>\n",
       "<style scoped>\n",
       "    .dataframe tbody tr th:only-of-type {\n",
       "        vertical-align: middle;\n",
       "    }\n",
       "\n",
       "    .dataframe tbody tr th {\n",
       "        vertical-align: top;\n",
       "    }\n",
       "\n",
       "    .dataframe thead th {\n",
       "        text-align: right;\n",
       "    }\n",
       "</style>\n",
       "<table border=\"1\" class=\"dataframe\">\n",
       "  <thead>\n",
       "    <tr style=\"text-align: right;\">\n",
       "      <th></th>\n",
       "      <th>0</th>\n",
       "      <th>1</th>\n",
       "      <th>2</th>\n",
       "      <th>3</th>\n",
       "      <th>4</th>\n",
       "      <th>5</th>\n",
       "      <th>6</th>\n",
       "      <th>7</th>\n",
       "      <th>8</th>\n",
       "      <th>9</th>\n",
       "      <th>...</th>\n",
       "      <th>490</th>\n",
       "      <th>491</th>\n",
       "      <th>492</th>\n",
       "      <th>493</th>\n",
       "      <th>494</th>\n",
       "      <th>495</th>\n",
       "      <th>496</th>\n",
       "      <th>497</th>\n",
       "      <th>498</th>\n",
       "      <th>499</th>\n",
       "    </tr>\n",
       "  </thead>\n",
       "  <tbody>\n",
       "    <tr>\n",
       "      <th>0</th>\n",
       "      <td>1.000000</td>\n",
       "      <td>1.000000</td>\n",
       "      <td>1.000000</td>\n",
       "      <td>1.000000</td>\n",
       "      <td>1.000000</td>\n",
       "      <td>1.000000</td>\n",
       "      <td>1.000000</td>\n",
       "      <td>1.000000</td>\n",
       "      <td>1.000000</td>\n",
       "      <td>1.000000</td>\n",
       "      <td>...</td>\n",
       "      <td>1.000000</td>\n",
       "      <td>1.000000</td>\n",
       "      <td>1.000000</td>\n",
       "      <td>1.000000</td>\n",
       "      <td>1.000000</td>\n",
       "      <td>1.000000</td>\n",
       "      <td>1.000000</td>\n",
       "      <td>1.000000</td>\n",
       "      <td>1.000000</td>\n",
       "      <td>1.000000</td>\n",
       "    </tr>\n",
       "    <tr>\n",
       "      <th>1</th>\n",
       "      <td>0.989629</td>\n",
       "      <td>1.011145</td>\n",
       "      <td>0.991303</td>\n",
       "      <td>1.009526</td>\n",
       "      <td>0.997934</td>\n",
       "      <td>0.996897</td>\n",
       "      <td>0.993256</td>\n",
       "      <td>1.017289</td>\n",
       "      <td>0.995123</td>\n",
       "      <td>0.994383</td>\n",
       "      <td>...</td>\n",
       "      <td>1.004531</td>\n",
       "      <td>0.983770</td>\n",
       "      <td>1.026296</td>\n",
       "      <td>0.994725</td>\n",
       "      <td>0.988660</td>\n",
       "      <td>1.006585</td>\n",
       "      <td>1.008896</td>\n",
       "      <td>1.003850</td>\n",
       "      <td>0.995931</td>\n",
       "      <td>1.034195</td>\n",
       "    </tr>\n",
       "    <tr>\n",
       "      <th>2</th>\n",
       "      <td>1.004458</td>\n",
       "      <td>1.032879</td>\n",
       "      <td>0.994809</td>\n",
       "      <td>1.018213</td>\n",
       "      <td>1.002193</td>\n",
       "      <td>1.005618</td>\n",
       "      <td>1.021691</td>\n",
       "      <td>1.033247</td>\n",
       "      <td>1.004522</td>\n",
       "      <td>1.008345</td>\n",
       "      <td>...</td>\n",
       "      <td>0.992266</td>\n",
       "      <td>0.988808</td>\n",
       "      <td>1.030898</td>\n",
       "      <td>0.997943</td>\n",
       "      <td>0.987248</td>\n",
       "      <td>1.020293</td>\n",
       "      <td>1.029472</td>\n",
       "      <td>1.005295</td>\n",
       "      <td>0.981915</td>\n",
       "      <td>1.016124</td>\n",
       "    </tr>\n",
       "    <tr>\n",
       "      <th>3</th>\n",
       "      <td>0.985071</td>\n",
       "      <td>1.035147</td>\n",
       "      <td>0.999742</td>\n",
       "      <td>1.027982</td>\n",
       "      <td>0.995666</td>\n",
       "      <td>0.995566</td>\n",
       "      <td>1.015881</td>\n",
       "      <td>1.013511</td>\n",
       "      <td>1.008471</td>\n",
       "      <td>1.007868</td>\n",
       "      <td>...</td>\n",
       "      <td>0.993818</td>\n",
       "      <td>0.982465</td>\n",
       "      <td>1.031138</td>\n",
       "      <td>0.987377</td>\n",
       "      <td>0.986554</td>\n",
       "      <td>1.022702</td>\n",
       "      <td>1.008329</td>\n",
       "      <td>1.014064</td>\n",
       "      <td>0.976073</td>\n",
       "      <td>1.013295</td>\n",
       "    </tr>\n",
       "    <tr>\n",
       "      <th>4</th>\n",
       "      <td>0.991704</td>\n",
       "      <td>1.031602</td>\n",
       "      <td>1.012714</td>\n",
       "      <td>1.050442</td>\n",
       "      <td>0.992445</td>\n",
       "      <td>0.999815</td>\n",
       "      <td>1.032871</td>\n",
       "      <td>1.015146</td>\n",
       "      <td>1.033458</td>\n",
       "      <td>1.006079</td>\n",
       "      <td>...</td>\n",
       "      <td>1.001629</td>\n",
       "      <td>0.963042</td>\n",
       "      <td>1.035629</td>\n",
       "      <td>0.982269</td>\n",
       "      <td>0.982459</td>\n",
       "      <td>1.007952</td>\n",
       "      <td>1.018122</td>\n",
       "      <td>1.021751</td>\n",
       "      <td>0.973591</td>\n",
       "      <td>1.004450</td>\n",
       "    </tr>\n",
       "    <tr>\n",
       "      <th>...</th>\n",
       "      <td>...</td>\n",
       "      <td>...</td>\n",
       "      <td>...</td>\n",
       "      <td>...</td>\n",
       "      <td>...</td>\n",
       "      <td>...</td>\n",
       "      <td>...</td>\n",
       "      <td>...</td>\n",
       "      <td>...</td>\n",
       "      <td>...</td>\n",
       "      <td>...</td>\n",
       "      <td>...</td>\n",
       "      <td>...</td>\n",
       "      <td>...</td>\n",
       "      <td>...</td>\n",
       "      <td>...</td>\n",
       "      <td>...</td>\n",
       "      <td>...</td>\n",
       "      <td>...</td>\n",
       "      <td>...</td>\n",
       "      <td>...</td>\n",
       "    </tr>\n",
       "    <tr>\n",
       "      <th>2516</th>\n",
       "      <td>4.081617</td>\n",
       "      <td>3.911914</td>\n",
       "      <td>10.027224</td>\n",
       "      <td>4.813300</td>\n",
       "      <td>5.689254</td>\n",
       "      <td>3.970628</td>\n",
       "      <td>6.762571</td>\n",
       "      <td>5.303953</td>\n",
       "      <td>1.333555</td>\n",
       "      <td>3.218972</td>\n",
       "      <td>...</td>\n",
       "      <td>4.909533</td>\n",
       "      <td>2.294076</td>\n",
       "      <td>3.879398</td>\n",
       "      <td>2.111415</td>\n",
       "      <td>11.871479</td>\n",
       "      <td>1.769627</td>\n",
       "      <td>3.886145</td>\n",
       "      <td>5.149731</td>\n",
       "      <td>2.374804</td>\n",
       "      <td>2.095220</td>\n",
       "    </tr>\n",
       "    <tr>\n",
       "      <th>2517</th>\n",
       "      <td>4.034164</td>\n",
       "      <td>3.870988</td>\n",
       "      <td>10.205612</td>\n",
       "      <td>4.877995</td>\n",
       "      <td>5.602859</td>\n",
       "      <td>4.035821</td>\n",
       "      <td>6.785371</td>\n",
       "      <td>5.385136</td>\n",
       "      <td>1.352749</td>\n",
       "      <td>3.209883</td>\n",
       "      <td>...</td>\n",
       "      <td>4.975299</td>\n",
       "      <td>2.320973</td>\n",
       "      <td>3.901072</td>\n",
       "      <td>2.090786</td>\n",
       "      <td>11.825158</td>\n",
       "      <td>1.761737</td>\n",
       "      <td>3.827328</td>\n",
       "      <td>5.156714</td>\n",
       "      <td>2.383301</td>\n",
       "      <td>2.065064</td>\n",
       "    </tr>\n",
       "    <tr>\n",
       "      <th>2518</th>\n",
       "      <td>4.044251</td>\n",
       "      <td>3.844086</td>\n",
       "      <td>10.465034</td>\n",
       "      <td>4.907406</td>\n",
       "      <td>5.546617</td>\n",
       "      <td>4.029142</td>\n",
       "      <td>6.726128</td>\n",
       "      <td>5.325041</td>\n",
       "      <td>1.361592</td>\n",
       "      <td>3.252261</td>\n",
       "      <td>...</td>\n",
       "      <td>5.076755</td>\n",
       "      <td>2.356822</td>\n",
       "      <td>3.956413</td>\n",
       "      <td>2.065240</td>\n",
       "      <td>11.598818</td>\n",
       "      <td>1.760621</td>\n",
       "      <td>3.750025</td>\n",
       "      <td>5.179778</td>\n",
       "      <td>2.369815</td>\n",
       "      <td>2.060287</td>\n",
       "    </tr>\n",
       "    <tr>\n",
       "      <th>2519</th>\n",
       "      <td>3.990740</td>\n",
       "      <td>3.843118</td>\n",
       "      <td>10.396485</td>\n",
       "      <td>4.933287</td>\n",
       "      <td>5.635043</td>\n",
       "      <td>3.990721</td>\n",
       "      <td>6.663190</td>\n",
       "      <td>5.398495</td>\n",
       "      <td>1.359600</td>\n",
       "      <td>3.207358</td>\n",
       "      <td>...</td>\n",
       "      <td>5.082470</td>\n",
       "      <td>2.361753</td>\n",
       "      <td>3.953472</td>\n",
       "      <td>2.092480</td>\n",
       "      <td>11.456687</td>\n",
       "      <td>1.776077</td>\n",
       "      <td>3.739741</td>\n",
       "      <td>5.289997</td>\n",
       "      <td>2.400144</td>\n",
       "      <td>2.098039</td>\n",
       "    </tr>\n",
       "    <tr>\n",
       "      <th>2520</th>\n",
       "      <td>4.046898</td>\n",
       "      <td>3.870765</td>\n",
       "      <td>10.261946</td>\n",
       "      <td>4.922987</td>\n",
       "      <td>5.792446</td>\n",
       "      <td>4.034834</td>\n",
       "      <td>6.664646</td>\n",
       "      <td>5.452166</td>\n",
       "      <td>1.395710</td>\n",
       "      <td>3.293356</td>\n",
       "      <td>...</td>\n",
       "      <td>5.032786</td>\n",
       "      <td>2.361252</td>\n",
       "      <td>3.933700</td>\n",
       "      <td>2.104949</td>\n",
       "      <td>11.362943</td>\n",
       "      <td>1.774006</td>\n",
       "      <td>3.741815</td>\n",
       "      <td>5.329667</td>\n",
       "      <td>2.423717</td>\n",
       "      <td>2.089671</td>\n",
       "    </tr>\n",
       "  </tbody>\n",
       "</table>\n",
       "<p>2521 rows × 500 columns</p>\n",
       "</div>"
      ],
      "text/plain": [
       "           0         1          2         3         4         5         6    \\\n",
       "0     1.000000  1.000000   1.000000  1.000000  1.000000  1.000000  1.000000   \n",
       "1     0.989629  1.011145   0.991303  1.009526  0.997934  0.996897  0.993256   \n",
       "2     1.004458  1.032879   0.994809  1.018213  1.002193  1.005618  1.021691   \n",
       "3     0.985071  1.035147   0.999742  1.027982  0.995666  0.995566  1.015881   \n",
       "4     0.991704  1.031602   1.012714  1.050442  0.992445  0.999815  1.032871   \n",
       "...        ...       ...        ...       ...       ...       ...       ...   \n",
       "2516  4.081617  3.911914  10.027224  4.813300  5.689254  3.970628  6.762571   \n",
       "2517  4.034164  3.870988  10.205612  4.877995  5.602859  4.035821  6.785371   \n",
       "2518  4.044251  3.844086  10.465034  4.907406  5.546617  4.029142  6.726128   \n",
       "2519  3.990740  3.843118  10.396485  4.933287  5.635043  3.990721  6.663190   \n",
       "2520  4.046898  3.870765  10.261946  4.922987  5.792446  4.034834  6.664646   \n",
       "\n",
       "           7         8         9    ...       490       491       492  \\\n",
       "0     1.000000  1.000000  1.000000  ...  1.000000  1.000000  1.000000   \n",
       "1     1.017289  0.995123  0.994383  ...  1.004531  0.983770  1.026296   \n",
       "2     1.033247  1.004522  1.008345  ...  0.992266  0.988808  1.030898   \n",
       "3     1.013511  1.008471  1.007868  ...  0.993818  0.982465  1.031138   \n",
       "4     1.015146  1.033458  1.006079  ...  1.001629  0.963042  1.035629   \n",
       "...        ...       ...       ...  ...       ...       ...       ...   \n",
       "2516  5.303953  1.333555  3.218972  ...  4.909533  2.294076  3.879398   \n",
       "2517  5.385136  1.352749  3.209883  ...  4.975299  2.320973  3.901072   \n",
       "2518  5.325041  1.361592  3.252261  ...  5.076755  2.356822  3.956413   \n",
       "2519  5.398495  1.359600  3.207358  ...  5.082470  2.361753  3.953472   \n",
       "2520  5.452166  1.395710  3.293356  ...  5.032786  2.361252  3.933700   \n",
       "\n",
       "           493        494       495       496       497       498       499  \n",
       "0     1.000000   1.000000  1.000000  1.000000  1.000000  1.000000  1.000000  \n",
       "1     0.994725   0.988660  1.006585  1.008896  1.003850  0.995931  1.034195  \n",
       "2     0.997943   0.987248  1.020293  1.029472  1.005295  0.981915  1.016124  \n",
       "3     0.987377   0.986554  1.022702  1.008329  1.014064  0.976073  1.013295  \n",
       "4     0.982269   0.982459  1.007952  1.018122  1.021751  0.973591  1.004450  \n",
       "...        ...        ...       ...       ...       ...       ...       ...  \n",
       "2516  2.111415  11.871479  1.769627  3.886145  5.149731  2.374804  2.095220  \n",
       "2517  2.090786  11.825158  1.761737  3.827328  5.156714  2.383301  2.065064  \n",
       "2518  2.065240  11.598818  1.760621  3.750025  5.179778  2.369815  2.060287  \n",
       "2519  2.092480  11.456687  1.776077  3.739741  5.289997  2.400144  2.098039  \n",
       "2520  2.104949  11.362943  1.774006  3.741815  5.329667  2.423717  2.089671  \n",
       "\n",
       "[2521 rows x 500 columns]"
      ]
     },
     "execution_count": 81,
     "metadata": {},
     "output_type": "execute_result"
    }
   ],
   "source": [
    "# Run the Monte Carlo simulation to forecast 10 years cumulative returns\n",
    "mc_10yr_simulator.calc_cumulative_return()\n"
   ]
  },
  {
   "cell_type": "code",
   "execution_count": 82,
   "metadata": {},
   "outputs": [
    {
     "data": {
      "text/plain": [
       "<AxesSubplot:title={'center':'500 Simulations of Cumulative Portfolio Return Trajectories Over the Next 2520 Trading Days.'}>"
      ]
     },
     "execution_count": 82,
     "metadata": {},
     "output_type": "execute_result"
    },
    {
     "data": {
      "image/png": "[encoded data removed]",
      "text/plain": [
       "<Figure size 432x288 with 1 Axes>"
      ]
     },
     "metadata": {
      "needs_background": "light"
     },
     "output_type": "display_data"
    }
   ],
   "source": [
    "# Visualize the 10-year Monte Carlo simulation by creating an\n",
    "# overlay line plot\n",
    "mc_10yr_simulator.plot_simulation()"
   ]
  },
  {
   "cell_type": "code",
   "execution_count": 84,
   "metadata": {},
   "outputs": [
    {
     "data": {
      "text/plain": [
       "<AxesSubplot:title={'center':'Distribution of Final Cumuluative Returns Across All 500 Simulations'}, ylabel='Frequency'>"
      ]
     },
     "execution_count": 84,
     "metadata": {},
     "output_type": "execute_result"
    },
    {
     "data": {
      "image/png": "[encoded data removed]",
      "text/plain": [
       "<Figure size 432x288 with 1 Axes>"
      ]
     },
     "metadata": {
      "needs_background": "light"
     },
     "output_type": "display_data"
    }
   ],
   "source": [
    "# Visualize the probability distribution of the 10-year Monte Carlo simulation \n",
    "# by plotting a histogram\n",
    "mc_10yr_simulator.plot_distribution()"
   ]
  },
  {
   "cell_type": "code",
   "execution_count": 86,
   "metadata": {},
   "outputs": [
    {
     "data": {
      "text/plain": [
       "count           500.000000\n",
       "mean              4.888789\n",
       "std               2.841975\n",
       "min               0.724398\n",
       "25%               2.944273\n",
       "50%               4.417697\n",
       "75%               6.218804\n",
       "max              22.688845\n",
       "95% CI Lower      1.459640\n",
       "95% CI Upper     12.026962\n",
       "Name: 2520, dtype: float64"
      ]
     },
     "execution_count": 86,
     "metadata": {},
     "output_type": "execute_result"
    }
   ],
   "source": [
    "# Generate summary statistics from the 10-year Monte Carlo simulation results\n",
    "# Save the results as a variable\n",
    "mc_10yr_stats = mc_10yr_simulator.summarize_cumulative_return()\n",
    "\n",
    "# Review the 10-year Monte Carlo summary statistics\n",
    "mc_10yr_stats"
   ]
  },
  {
   "cell_type": "markdown",
   "metadata": {},
   "source": [
    "### Answer the following questions:"
   ]
  },
  {
   "cell_type": "markdown",
   "metadata": {},
   "source": [
    "#### Question: Using the current value of only the stock and bond portion of the member's portfolio and the summary statistics that you generated from the new Monte Carlo simulation, what are the lower and upper bounds for the expected value of the portfolio (with the new weights) with a 95% confidence interval?"
   ]
  },
  {
   "cell_type": "code",
   "execution_count": 87,
   "metadata": {},
   "outputs": [
    {
     "data": {
      "text/plain": [
       "70973.2"
      ]
     },
     "execution_count": 87,
     "metadata": {},
     "output_type": "execute_result"
    }
   ],
   "source": [
    "# Print the current balance of the stock and bond portion of the members portfolio\n",
    "total_stocks_bonds"
   ]
  },
  {
   "cell_type": "code",
   "execution_count": 88,
   "metadata": {},
   "outputs": [
    {
     "name": "stdout",
     "output_type": "stream",
     "text": [
      "With a 95% confidence interal, the portfolio will be worth between $ 103595.31 and $ 853591.96 in 10 years\n"
     ]
    }
   ],
   "source": [
    "# Use the lower and upper `95%` confidence intervals to calculate the range of the possible outcomes for the current stock/bond portfolio\n",
    "ci_lower_ten_cumulative_return = mc_10yr_stats[8] * total_stocks_bonds\n",
    "ci_upper_ten_cumulative_return = mc_10yr_stats[9] * total_stocks_bonds\n",
    "\n",
    "# Print the result of your calculations\n",
    "print(f\"With a 95% confidence interal, the portfolio will be worth between ${ci_lower_ten_cumulative_return: .2f} and ${ci_upper_ten_cumulative_return: .2f} in 10 years\")\n"
   ]
  },
  {
   "cell_type": "markdown",
   "metadata": {},
   "source": [
    "#### Question: Will weighting the portfolio more heavily to stocks allow the credit union members to retire after only 10 years?"
   ]
  },
  {
   "cell_type": "raw",
   "metadata": {},
   "source": [
    "**Answer** Not enough info answer. Generally, people try to retire with a certain amount of money, and i don't believe that this exercise has specified that amount that the credit union memebers want to retire with.\n",
    "\n",
    "I ran this 10 year simulation a few times with both a 40/60 and 20/80 split of AG/SPY, and the mean for for the 20/80 split is generally at least 100 higher than the 40/60 split. So you can say the credit union members will be more likely to retire after 10 years with the 20/80 split, but that's about all you can say with confidence.\n"
   ]
  },
  {
   "cell_type": "code",
   "execution_count": null,
   "metadata": {},
   "outputs": [],
   "source": []
  }
 ],
 "metadata": {
  "kernelspec": {
   "display_name": "dev",
   "language": "python",
   "name": "dev"
  },
  "language_info": {
   "codemirror_mode": {
    "name": "ipython",
    "version": 3
   },
   "file_extension": ".py",
   "mimetype": "text/x-python",
   "name": "python",
   "nbconvert_exporter": "python",
   "pygments_lexer": "ipython3",
   "version": "3.9.7"
  }
 },
 "nbformat": 4,
 "nbformat_minor": 4
}
